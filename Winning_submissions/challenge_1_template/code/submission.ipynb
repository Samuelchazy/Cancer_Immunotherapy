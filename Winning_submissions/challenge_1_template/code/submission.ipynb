{
 "cells": [
  {
   "cell_type": "code",
   "execution_count": 1,
   "id": "8faa796d",
   "metadata": {},
   "outputs": [],
   "source": [
    "import joblib\n",
    "import numpy as np\n",
    "import pandas as pd"
   ]
  },
  {
   "cell_type": "code",
   "execution_count": 2,
   "id": "7eb81262",
   "metadata": {},
   "outputs": [],
   "source": [
    "# load pre-computed gene embedding\n",
    "\n",
    "X_test = np.load(\"/Users/samuelchazy/ML_files_X/Applied_Projects/Competitions/Top_coders/Cancer_Immunotherapy/Winning_submissions/challenge_1_template/code/data/testset_gene_embed.npy\")"
   ]
  },
  {
   "cell_type": "code",
   "execution_count": 4,
   "id": "df624f60",
   "metadata": {},
   "outputs": [
    {
     "data": {
      "text/plain": "array([[0.21049573, 0.18445795, 0.25868164, 0.33039646, 0.01596821],\n       [0.13950652, 0.17605902, 0.29153384, 0.3771558 , 0.01574482],\n       [0.32573434, 0.16810769, 0.22352505, 0.26891766, 0.01371527],\n       [0.2079218 , 0.20021662, 0.25384524, 0.32024396, 0.01777238],\n       [0.26559939, 0.19651458, 0.23128343, 0.29307998, 0.01352262],\n       [0.33146917, 0.16190465, 0.22058427, 0.26855139, 0.01749053],\n       [0.30095077, 0.18786734, 0.22290979, 0.27473063, 0.01354146]])"
     },
     "execution_count": 4,
     "metadata": {},
     "output_type": "execute_result"
    }
   ],
   "source": [
    "model = joblib.load('/Users/samuelchazy/ML_files_X/Applied_Projects/Competitions/Top_coders/Cancer_Immunotherapy/Winning_submissions/challenge_1_template/code/data/best_model.pkl')\n",
    "Y_heldout_pred = model.predict(X_test)\n",
    "Y_heldout_pred = Y_heldout_pred[:,[0,1,3,4,2]]\n",
    "Y_heldout_pred"
   ]
  },
  {
   "cell_type": "code",
   "execution_count": 5,
   "id": "900a806c",
   "metadata": {},
   "outputs": [
    {
     "data": {
      "text/plain": "array([[0.21049573, 0.18445795, 0.25868164, 0.33039646, 0.01596821],\n       [0.13950652, 0.17605902, 0.29153384, 0.3771558 , 0.01574482],\n       [0.32573434, 0.16810769, 0.22352505, 0.26891766, 0.01371527],\n       [0.2079218 , 0.20021662, 0.25384524, 0.32024396, 0.01777238],\n       [0.26559939, 0.19651458, 0.23128343, 0.29307998, 0.01352262],\n       [0.33146917, 0.16190465, 0.22058427, 0.26855139, 0.01749053],\n       [0.30095077, 0.18786734, 0.22290979, 0.27473063, 0.01354146]])"
     },
     "execution_count": 5,
     "metadata": {},
     "output_type": "execute_result"
    }
   ],
   "source": [
    "Y_heldout_pred[:,4] = 1- np.sum(Y_heldout_pred[:,:4], axis=-1)\n",
    "Y_heldout_pred"
   ]
  },
  {
   "cell_type": "code",
   "execution_count": 6,
   "id": "453260fd",
   "metadata": {},
   "outputs": [
    {
     "data": {
      "text/plain": "              a_i       b_i       c_i       d_i       e_i\ngene                                                     \nAqr      0.210496  0.184458  0.258682  0.330396  0.015968\nBach2    0.139507  0.176059  0.291534  0.377156  0.015745\nBhlhe40  0.325734  0.168108  0.223525  0.268918  0.013715",
      "text/html": "<div>\n<style scoped>\n    .dataframe tbody tr th:only-of-type {\n        vertical-align: middle;\n    }\n\n    .dataframe tbody tr th {\n        vertical-align: top;\n    }\n\n    .dataframe thead th {\n        text-align: right;\n    }\n</style>\n<table border=\"1\" class=\"dataframe\">\n  <thead>\n    <tr style=\"text-align: right;\">\n      <th></th>\n      <th>a_i</th>\n      <th>b_i</th>\n      <th>c_i</th>\n      <th>d_i</th>\n      <th>e_i</th>\n    </tr>\n    <tr>\n      <th>gene</th>\n      <th></th>\n      <th></th>\n      <th></th>\n      <th></th>\n      <th></th>\n    </tr>\n  </thead>\n  <tbody>\n    <tr>\n      <th>Aqr</th>\n      <td>0.210496</td>\n      <td>0.184458</td>\n      <td>0.258682</td>\n      <td>0.330396</td>\n      <td>0.015968</td>\n    </tr>\n    <tr>\n      <th>Bach2</th>\n      <td>0.139507</td>\n      <td>0.176059</td>\n      <td>0.291534</td>\n      <td>0.377156</td>\n      <td>0.015745</td>\n    </tr>\n    <tr>\n      <th>Bhlhe40</th>\n      <td>0.325734</td>\n      <td>0.168108</td>\n      <td>0.223525</td>\n      <td>0.268918</td>\n      <td>0.013715</td>\n    </tr>\n  </tbody>\n</table>\n</div>"
     },
     "execution_count": 6,
     "metadata": {},
     "output_type": "execute_result"
    }
   ],
   "source": [
    "df = pd.DataFrame(Y_heldout_pred[:3], columns=['a_i','b_i','c_i','d_i','e_i'])\n",
    "df['gene'] = ['Aqr', 'Bach2', 'Bhlhe40']\n",
    "df.index = df['gene']\n",
    "df.drop(columns=['gene'], inplace=True)\n",
    "df.to_csv('/Users/samuelchazy/ML_files_X/Applied_Projects/Competitions/Top_coders/Cancer_Immunotherapy/Winning_submissions/challenge_1_template/solution/validation_output.csv')\n",
    "df"
   ]
  },
  {
   "cell_type": "code",
   "execution_count": 7,
   "id": "a0ce3b8e",
   "metadata": {},
   "outputs": [
    {
     "data": {
      "text/plain": "            a_i       b_i       c_i       d_i       e_i\ngene                                                   \nEts1   0.207922  0.200217  0.253845  0.320244  0.017772\nFosb   0.265599  0.196515  0.231283  0.293080  0.013523\nMafk   0.331469  0.161905  0.220584  0.268551  0.017491\nStat3  0.300951  0.187867  0.222910  0.274731  0.013541",
      "text/html": "<div>\n<style scoped>\n    .dataframe tbody tr th:only-of-type {\n        vertical-align: middle;\n    }\n\n    .dataframe tbody tr th {\n        vertical-align: top;\n    }\n\n    .dataframe thead th {\n        text-align: right;\n    }\n</style>\n<table border=\"1\" class=\"dataframe\">\n  <thead>\n    <tr style=\"text-align: right;\">\n      <th></th>\n      <th>a_i</th>\n      <th>b_i</th>\n      <th>c_i</th>\n      <th>d_i</th>\n      <th>e_i</th>\n    </tr>\n    <tr>\n      <th>gene</th>\n      <th></th>\n      <th></th>\n      <th></th>\n      <th></th>\n      <th></th>\n    </tr>\n  </thead>\n  <tbody>\n    <tr>\n      <th>Ets1</th>\n      <td>0.207922</td>\n      <td>0.200217</td>\n      <td>0.253845</td>\n      <td>0.320244</td>\n      <td>0.017772</td>\n    </tr>\n    <tr>\n      <th>Fosb</th>\n      <td>0.265599</td>\n      <td>0.196515</td>\n      <td>0.231283</td>\n      <td>0.293080</td>\n      <td>0.013523</td>\n    </tr>\n    <tr>\n      <th>Mafk</th>\n      <td>0.331469</td>\n      <td>0.161905</td>\n      <td>0.220584</td>\n      <td>0.268551</td>\n      <td>0.017491</td>\n    </tr>\n    <tr>\n      <th>Stat3</th>\n      <td>0.300951</td>\n      <td>0.187867</td>\n      <td>0.222910</td>\n      <td>0.274731</td>\n      <td>0.013541</td>\n    </tr>\n  </tbody>\n</table>\n</div>"
     },
     "execution_count": 7,
     "metadata": {},
     "output_type": "execute_result"
    }
   ],
   "source": [
    "df = pd.DataFrame(Y_heldout_pred[3:], columns=['a_i','b_i','c_i','d_i','e_i'])\n",
    "df['gene'] = [ 'Ets1', 'Fosb', 'Mafk', 'Stat3']\n",
    "df.index = df['gene']\n",
    "df.drop(columns=['gene'], inplace=True)\n",
    "df.to_csv('/Users/samuelchazy/ML_files_X/Applied_Projects/Competitions/Top_coders/Cancer_Immunotherapy/Winning_submissions/challenge_1_template/solution/test_output.csv')\n",
    "df"
   ]
  },
  {
   "cell_type": "code",
   "execution_count": null,
   "outputs": [],
   "source": [],
   "metadata": {
    "collapsed": false
   }
  }
 ],
 "metadata": {
  "kernelspec": {
   "display_name": "Python 3 (ipykernel)",
   "language": "python",
   "name": "python3"
  },
  "language_info": {
   "codemirror_mode": {
    "name": "ipython",
    "version": 3
   },
   "file_extension": ".py",
   "mimetype": "text/x-python",
   "name": "python",
   "nbconvert_exporter": "python",
   "pygments_lexer": "ipython3",
   "version": "3.9.13"
  }
 },
 "nbformat": 4,
 "nbformat_minor": 5
}
