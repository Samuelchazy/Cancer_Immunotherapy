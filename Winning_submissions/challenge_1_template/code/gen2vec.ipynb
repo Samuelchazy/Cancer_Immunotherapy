{
 "cells": [
  {
   "cell_type": "code",
   "execution_count": 1,
   "id": "a0102bdf",
   "metadata": {},
   "outputs": [],
   "source": [
    "from torch import nn\n",
    "import torch\n",
    "import anndata as ad\n",
    "import pandas as pd\n",
    "import scanpy as sc\n",
    "import numpy as np"
   ]
  },
  {
   "cell_type": "code",
   "execution_count": 2,
   "id": "8faa796d",
   "metadata": {},
   "outputs": [],
   "source": [
    "from sklearn.model_selection import GridSearchCV, train_test_split\n",
    "from sklearn.decomposition import PCA\n",
    "from sklearn.neighbors import KNeighborsRegressor\n",
    "from sklearn.ensemble import RandomForestRegressor\n",
    "from sklearn.pipeline import Pipeline\n",
    "from sklearn import metrics\n",
    "from sklearn.preprocessing import StandardScaler\n",
    "import joblib\n",
    "import pickle\n",
    "\n",
    "def l1_loss(y_true, y_pred):\n",
    "    return np.sum(np.abs(y_true-y_pred))"
   ]
  },
  {
   "cell_type": "markdown",
   "id": "ed8fdd71",
   "metadata": {},
   "source": [
    "# Extract gene embedding from pretrained scBERT"
   ]
  },
  {
   "cell_type": "code",
   "execution_count": 3,
   "id": "ba598a83",
   "metadata": {},
   "outputs": [],
   "source": [
    "class Gene2VecPositionalEmbedding(nn.Module):\n",
    "    def __init__(self, dim, max_seq_len):\n",
    "        super().__init__()\n",
    "        gene2vec_weight = np.load('/Users/samuelchazy/ML_files_X/Applied_Projects/Competitions/Top_coders/Cancer_Immunotherapy/Winning_submissions/challenge_1_template/code/data/gene2vec_16906.npy')\n",
    "        gene2vec_weight = np.concatenate((gene2vec_weight, np.zeros((1, gene2vec_weight.shape[1]))), axis=0)\n",
    "        gene2vec_weight = torch.from_numpy(gene2vec_weight)\n",
    "        self.emb = nn.Embedding.from_pretrained(gene2vec_weight)\n",
    "\n",
    "    def forward(self, x):\n",
    "        t = torch.arange(x.shape[1])\n",
    "        return self.emb(t)"
   ]
  },
  {
   "cell_type": "code",
   "execution_count": 11,
   "outputs": [
    {
     "data": {
      "text/plain": "array([[ 0.09901641,  0.0662446 , -0.03479731, ...,  0.19355905,\n        -0.17810692, -0.23648332],\n       [-0.0231158 , -0.27804175,  0.00556953, ..., -0.06118472,\n        -0.38697961, -0.29563326],\n       [ 0.0390633 ,  0.17098807,  0.21242471, ...,  0.20167874,\n        -0.25721824, -0.11382486],\n       ...,\n       [-0.17179887, -0.24742457, -0.07134991, ...,  0.24341892,\n         0.30512366,  0.10348674],\n       [-0.18267053,  0.01702181, -0.0729536 , ...,  0.36628523,\n         0.27509084, -0.11343211],\n       [-0.15330462,  0.01417207,  0.01044654, ..., -0.07525061,\n        -0.17254964, -0.15762754]])"
     },
     "execution_count": 11,
     "metadata": {},
     "output_type": "execute_result"
    }
   ],
   "source": [
    "temp = np.load('/Users/samuelchazy/ML_files_X/Applied_Projects/Competitions/Top_coders/Cancer_Immunotherapy/Winning_submissions/challenge_1_template/code/data/gene2vec_16906.npy')\n",
    "temp"
   ],
   "metadata": {
    "collapsed": false
   }
  },
  {
   "cell_type": "code",
   "execution_count": 4,
   "id": "a0897483",
   "metadata": {},
   "outputs": [
    {
     "name": "stderr",
     "output_type": "stream",
     "text": [
      "/Users/samuelchazy/ML_files_X/venv_3.10/lib/python3.10/site-packages/anndata/_core/anndata.py:1828: UserWarning: Observation names are not unique. To make them unique, call `.obs_names_make_unique`.\n",
      "  utils.warn_names_duplicates(\"obs\")\n"
     ]
    }
   ],
   "source": [
    "dim = 200\n",
    "SEQ_LEN = 16906 + 1 # gene_num + 1\n",
    "max_seq_len = SEQ_LEN\n",
    "pos_emb = Gene2VecPositionalEmbedding(dim, max_seq_len)\n",
    "\n",
    "\n",
    "data = sc.read_h5ad(\"/Users/samuelchazy/ML_files_X/Applied_Projects/Competitions/Top_coders/Cancer_Immunotherapy/Winning_submissions/challenge_1_template/code/data/panglao_10000.h5ad\")\n",
    "emb = pos_emb(data.X)\n",
    "genes = data.var_names.tolist()"
   ]
  },
  {
   "cell_type": "markdown",
   "id": "c0f919bd",
   "metadata": {},
   "source": [
    "# prepare training set"
   ]
  },
  {
   "cell_type": "code",
   "execution_count": 5,
   "outputs": [],
   "source": [
    "import os\n",
    "os.getcwd()\n",
    "os.chdir('/Users/samuelchazy/ML_files_X/Applied_Projects/Competitions/Top_coders/Cancer_Immunotherapy/data')"
   ],
   "metadata": {
    "collapsed": false
   }
  },
  {
   "cell_type": "code",
   "execution_count": 6,
   "id": "2e87845a",
   "metadata": {},
   "outputs": [
    {
     "data": {
      "text/plain": "state        progenitor  effector     other  terminal exhausted   cycling\ncondition                                                                \nArid4b         0.056604  0.117925  0.011006            0.388365  0.426101\nArid5b         0.011241  0.044546  0.017485            0.412989  0.513739\nAtf2           0.120567  0.248227  0.028369            0.304965  0.297872\nBatf           0.666667  0.000000  0.166667            0.166667  0.000000\nCrem           0.034166  0.425756  0.017083            0.214192  0.308804\n...                 ...       ...       ...                 ...       ...\nTpt1           0.440000  0.160000  0.000000            0.120000  0.280000\nUnperturbed    0.067497  0.209723  0.017276            0.313379  0.392125\nYy1            0.600000  0.200000  0.000000            0.080000  0.120000\nZeb2           0.017483  0.115385  0.145688            0.282051  0.439394\nZfp292         0.124601  0.555911  0.009585            0.099042  0.210863\n\n[67 rows x 5 columns]",
      "text/html": "<div>\n<style scoped>\n    .dataframe tbody tr th:only-of-type {\n        vertical-align: middle;\n    }\n\n    .dataframe tbody tr th {\n        vertical-align: top;\n    }\n\n    .dataframe thead th {\n        text-align: right;\n    }\n</style>\n<table border=\"1\" class=\"dataframe\">\n  <thead>\n    <tr style=\"text-align: right;\">\n      <th>state</th>\n      <th>progenitor</th>\n      <th>effector</th>\n      <th>other</th>\n      <th>terminal exhausted</th>\n      <th>cycling</th>\n    </tr>\n    <tr>\n      <th>condition</th>\n      <th></th>\n      <th></th>\n      <th></th>\n      <th></th>\n      <th></th>\n    </tr>\n  </thead>\n  <tbody>\n    <tr>\n      <th>Arid4b</th>\n      <td>0.056604</td>\n      <td>0.117925</td>\n      <td>0.011006</td>\n      <td>0.388365</td>\n      <td>0.426101</td>\n    </tr>\n    <tr>\n      <th>Arid5b</th>\n      <td>0.011241</td>\n      <td>0.044546</td>\n      <td>0.017485</td>\n      <td>0.412989</td>\n      <td>0.513739</td>\n    </tr>\n    <tr>\n      <th>Atf2</th>\n      <td>0.120567</td>\n      <td>0.248227</td>\n      <td>0.028369</td>\n      <td>0.304965</td>\n      <td>0.297872</td>\n    </tr>\n    <tr>\n      <th>Batf</th>\n      <td>0.666667</td>\n      <td>0.000000</td>\n      <td>0.166667</td>\n      <td>0.166667</td>\n      <td>0.000000</td>\n    </tr>\n    <tr>\n      <th>Crem</th>\n      <td>0.034166</td>\n      <td>0.425756</td>\n      <td>0.017083</td>\n      <td>0.214192</td>\n      <td>0.308804</td>\n    </tr>\n    <tr>\n      <th>...</th>\n      <td>...</td>\n      <td>...</td>\n      <td>...</td>\n      <td>...</td>\n      <td>...</td>\n    </tr>\n    <tr>\n      <th>Tpt1</th>\n      <td>0.440000</td>\n      <td>0.160000</td>\n      <td>0.000000</td>\n      <td>0.120000</td>\n      <td>0.280000</td>\n    </tr>\n    <tr>\n      <th>Unperturbed</th>\n      <td>0.067497</td>\n      <td>0.209723</td>\n      <td>0.017276</td>\n      <td>0.313379</td>\n      <td>0.392125</td>\n    </tr>\n    <tr>\n      <th>Yy1</th>\n      <td>0.600000</td>\n      <td>0.200000</td>\n      <td>0.000000</td>\n      <td>0.080000</td>\n      <td>0.120000</td>\n    </tr>\n    <tr>\n      <th>Zeb2</th>\n      <td>0.017483</td>\n      <td>0.115385</td>\n      <td>0.145688</td>\n      <td>0.282051</td>\n      <td>0.439394</td>\n    </tr>\n    <tr>\n      <th>Zfp292</th>\n      <td>0.124601</td>\n      <td>0.555911</td>\n      <td>0.009585</td>\n      <td>0.099042</td>\n      <td>0.210863</td>\n    </tr>\n  </tbody>\n</table>\n<p>67 rows × 5 columns</p>\n</div>"
     },
     "execution_count": 6,
     "metadata": {},
     "output_type": "execute_result"
    }
   ],
   "source": [
    "adata = sc.read_h5ad('./sc_training.h5ad')\n",
    "df = adata.obs[['condition', 'state']]\n",
    "prop = df.groupby(by=['condition', 'state'],as_index=False).size()\n",
    "total = df.groupby(by='condition',as_index=False).size()\n",
    "\n",
    "prop = prop.merge(total, on='condition', how='left')\n",
    "prop['prop'] = prop.size_x /prop.size_y\n",
    "prop = prop.pivot_table(index='condition', columns='state', values='prop')\n",
    "\n",
    "prop = prop[['progenitor', 'effector', 'other', 'terminal exhausted', 'cycling']]\n",
    "prop"
   ]
  },
  {
   "cell_type": "code",
   "execution_count": 7,
   "id": "36c6837f",
   "metadata": {},
   "outputs": [
    {
     "data": {
      "text/plain": "['Foxm1',\n 'Tox',\n 'Arid4b',\n 'Stat4',\n 'Egr1',\n 'Nr3c1',\n 'Irf9',\n 'Batf',\n 'Id3',\n 'Dvl2',\n 'Rps6',\n 'Dvl1',\n 'Tcf3',\n 'Rad21',\n 'Runx2',\n 'Tox2',\n 'Fzd1',\n 'Il12rb2',\n 'Rela',\n 'Hmgb2',\n 'Foxo1',\n 'Elf1',\n 'Id2',\n 'Yy1',\n 'Satb1',\n 'Dvl3',\n 'Fzd6',\n 'Il12rb1',\n 'P2rx7',\n 'Crem',\n 'Dkk3',\n 'Sp140',\n 'Tcf7',\n 'Tpt1',\n 'Oxnad1',\n 'Ep300',\n 'Sox4',\n 'Runx3',\n 'Atf2',\n 'Hmgb1',\n 'Eomes',\n 'Tbx21',\n 'Zeb2',\n 'Nr4a3',\n 'Litaf',\n 'Lef1',\n 'Ctnnb1',\n 'Eef2',\n 'Sub1',\n 'Arid5b',\n 'Hif1a',\n 'Sp100',\n 'Gsk3b',\n 'Ldhb',\n 'Foxp1',\n 'Lrp1',\n 'Ikzf3',\n 'Klf2',\n 'Irf2',\n 'Prdm1',\n 'Ezh2',\n 'Nr4a2',\n 'Myb',\n 'Nr4a1',\n 'Fzd3']"
     },
     "execution_count": 7,
     "metadata": {},
     "output_type": "execute_result"
    }
   ],
   "source": [
    "conditions = list(set(adata.obs['condition'].tolist()))\n",
    "conditions = [g for g in conditions if g != 'Unperturbed']\n",
    "conditions = [g for g in conditions if g.upper() in genes]\n",
    "conditions"
   ]
  },
  {
   "cell_type": "code",
   "execution_count": 8,
   "id": "fa421450",
   "metadata": {},
   "outputs": [
    {
     "data": {
      "text/plain": "array([[ 0.80876199,  0.49971498, -0.87779106, ..., -1.62549264,\n        -0.03624708, -0.01300541],\n       [-0.52122495, -0.58473698,  0.80769873, ..., -0.14130064,\n        -0.45418966,  0.35438214],\n       [ 0.95676034,  0.77947251,  0.02561703, ...,  1.53579194,\n        -2.08241023,  0.01165814],\n       ...,\n       [-0.40003167,  0.909072  , -0.56395749, ...,  1.05832384,\n         1.36434388, -1.20612593],\n       [ 0.26626613, -1.19976797, -0.47012216, ..., -0.09801398,\n        -0.18148835,  1.72442075],\n       [ 0.73718578, -0.52320185, -0.88283549, ...,  1.70894623,\n         0.01684131, -0.71974629]])"
     },
     "execution_count": 8,
     "metadata": {},
     "output_type": "execute_result"
    }
   ],
   "source": [
    "X, Y = [], []\n",
    "\n",
    "state_wt = np.array(prop.loc['Unperturbed'].values)\n",
    "\n",
    "for g in conditions:\n",
    "    x = np.array(emb[list(genes).index(g.upper())])\n",
    "    y = np.array(prop.loc[g].values) #- state_wt\n",
    "    X.append(x)\n",
    "    Y.append(y)\n",
    "    \n",
    "X_scaler = StandardScaler()\n",
    "X_scaler.fit(emb)\n",
    "X = X_scaler.transform(X)\n",
    "\n",
    "with open(f'/Users/samuelchazy/ML_files_X/Applied_Projects/Competitions/Top_coders/Cancer_Immunotherapy/Winning_submissions/challenge_1_template/code/data/X_scaler.pkl', 'wb') as f:\n",
    "    pickle.dump(X_scaler, f)\n",
    "\n",
    "X"
   ]
  },
  {
   "cell_type": "code",
   "execution_count": 10,
   "id": "c4df3ae8",
   "metadata": {},
   "outputs": [
    {
     "data": {
      "text/plain": "array([[ 0.4369856 ,  1.83163887,  1.30296681, ...,  1.29734927,\n        -0.0239695 , -1.84059162],\n       [ 0.05053682,  0.66980004, -0.2686294 , ...,  1.91119476,\n         1.10372599,  0.50888215],\n       [ 0.3255075 , -1.2597175 ,  0.00940757, ..., -0.26657041,\n        -1.48304829,  1.80351912],\n       ...,\n       [ 2.06476318, -0.27354803,  1.96149128, ...,  1.87026806,\n        -1.49645831,  0.08588371],\n       [ 0.68527231, -1.20379274, -0.30885089, ...,  0.40130035,\n        -0.09999667,  0.19613166],\n       [-0.92363967, -0.55469237,  1.01179548, ...,  0.41534762,\n        -0.77904279, -0.21411693]])"
     },
     "execution_count": 10,
     "metadata": {},
     "output_type": "execute_result"
    }
   ],
   "source": [
    "testset = ['Aqr', 'Bach2', 'Bhlhe40', 'Ets1', 'Fosb', 'Mafk', 'Stat3']\n",
    "testset = [np.array(emb[list(genes).index(g.upper())]) for g in testset]\n",
    "testset = X_scaler.transform(testset)\n",
    "np.save(\"/Users/samuelchazy/ML_files_X/Applied_Projects/Competitions/Top_coders/Cancer_Immunotherapy/Winning_submissions/challenge_1_template/code/data/testset_gene_embed\", np.array(testset))\n",
    "testset"
   ]
  },
  {
   "cell_type": "markdown",
   "id": "ef5d702d",
   "metadata": {},
   "source": [
    "# Train and select regression model mapping gene embedding to 5-states"
   ]
  },
  {
   "cell_type": "code",
   "execution_count": 25,
   "id": "7df1736c",
   "metadata": {},
   "outputs": [
    {
     "data": {
      "text/plain": "array([[ 0.58005273, -0.68231329,  0.64224908, ...,  0.71163614,\n         0.9745569 ,  0.08399899],\n       [-0.2547744 , -0.45924609, -1.11227522, ..., -0.36873722,\n        -0.2347909 , -0.04176791],\n       [-0.62405007, -0.38217799,  0.14526796, ..., -0.66262246,\n        -0.71583147,  0.33539301],\n       ...,\n       [ 1.21894386,  0.78942186,  1.6352367 , ...,  1.03179946,\n        -0.42922112, -0.87048511],\n       [-2.44141518, -0.17746259, -1.19192255, ..., -0.52812374,\n        -0.30816534,  0.53162737],\n       [-0.16422783,  0.73485964, -0.6723655 , ..., -0.44048724,\n        -0.17341462,  1.55630008]])"
     },
     "execution_count": 25,
     "metadata": {},
     "output_type": "execute_result"
    }
   ],
   "source": [
    "X_train, X_test, Y_train, Y_test = train_test_split(X, Y, test_size=0.05)\n",
    "X_train"
   ]
  },
  {
   "cell_type": "code",
   "execution_count": 26,
   "id": "fce0a0c1",
   "metadata": {},
   "outputs": [],
   "source": [
    "num_pca_components = 40\n",
    "pca = PCA(num_pca_components)\n",
    "Xs_train_pca = pca.fit_transform(X_train)"
   ]
  },
  {
   "cell_type": "code",
   "execution_count": 27,
   "id": "88ae84f3",
   "metadata": {},
   "outputs": [],
   "source": [
    "knn_grid = [\n",
    "    {\n",
    "        'model': [KNeighborsRegressor()],\n",
    "        'model__n_neighbors': [3, 5, 10],\n",
    "        'model__weights': ['uniform', 'distance'],\n",
    "        'model__algorithm': ['ball_tree', 'kd_tree', 'brute'],\n",
    "        'model__leaf_size' : [15, 30],\n",
    "        'model__p' : [1, 2],\n",
    "    }\n",
    "    ]\n",
    "\n",
    "rfr_grid = [\n",
    "    {\n",
    "        'model': [RandomForestRegressor()],\n",
    "        'model__n_estimators' : [20],\n",
    "#         'model__criterion' : ['absolute_error'],\n",
    "        'model__max_features': ['sqrt', 'log2'],\n",
    "        'model__min_samples_split' : [5, 10],\n",
    "        'model__min_samples_leaf': [1, 2, 4]\n",
    "    }\n",
    "]"
   ]
  },
  {
   "cell_type": "code",
   "execution_count": 34,
   "id": "7d892ac3",
   "metadata": {},
   "outputs": [],
   "source": [
    "cls_list = [KNeighborsRegressor, \n",
    "#             SVR, \n",
    "            RandomForestRegressor\n",
    "           ]\n",
    "param_grid_list = [knn_grid, \n",
    "#                    svm_grid, \n",
    "                   rfr_grid\n",
    "                  ]"
   ]
  },
  {
   "cell_type": "code",
   "execution_count": 39,
   "id": "7a7820b7",
   "metadata": {},
   "outputs": [
    {
     "name": "stdout",
     "output_type": "stream",
     "text": [
      "<class 'sklearn.neighbors._regression.KNeighborsRegressor'>\n",
      "Fitting 15 folds for each of 72 candidates, totalling 1080 fits\n",
      "<class 'sklearn.ensemble._forest.RandomForestRegressor'>\n",
      "Fitting 15 folds for each of 12 candidates, totalling 180 fits\n"
     ]
    }
   ],
   "source": [
    "pipe = Pipeline([('pca',PCA(num_pca_components)),('model','passthrough')])\n",
    "\n",
    "result_list = []\n",
    "grid_list = []\n",
    "for cls_name, param_grid in zip(cls_list, param_grid_list):\n",
    "    print(cls_name)\n",
    "    grid = GridSearchCV(\n",
    "        estimator = pipe,\n",
    "        param_grid = param_grid,\n",
    "        scoring = 'neg_mean_absolute_error',\n",
    "        verbose = 1,\n",
    "        cv = 15, \n",
    "        n_jobs = -1 # use all available cores\n",
    "    )\n",
    "    grid.fit(X_train, Y_train)\n",
    "    result_list.append(pd.DataFrame.from_dict(grid.cv_results_))\n",
    "    grid_list.append(grid)"
   ]
  },
  {
   "cell_type": "code",
   "execution_count": 40,
   "id": "d9e7b876",
   "metadata": {},
   "outputs": [
    {
     "name": "stdout",
     "output_type": "stream",
     "text": [
      "KNeighborsRegressor(algorithm='ball_tree', leaf_size=15, n_neighbors=10,\n",
      "                    weights='distance')\n",
      "[0.466, 0.54, 0.432, 0.507]\n",
      "\n",
      " -------------------------------------------------------------------------------- \n",
      "\n",
      "RandomForestRegressor(max_features='sqrt', min_samples_leaf=4,\n",
      "                      min_samples_split=10, n_estimators=20)\n",
      "[0.291, 0.513, 0.529, 0.525]\n",
      "\n",
      " -------------------------------------------------------------------------------- \n",
      "\n"
     ]
    }
   ],
   "source": [
    "for grid in grid_list:\n",
    "    print(grid.best_estimator_.get_params()[\"steps\"][1][1]) # get the model details from the estimator\n",
    "    preds = grid.predict(X_test)\n",
    "    \n",
    "    print([round(l1_loss(t,p),3) for t,p in zip(Y_test, preds)])\n",
    "    \n",
    "    print('\\n', '-' * 80, '\\n')"
   ]
  },
  {
   "cell_type": "code",
   "execution_count": 42,
   "id": "85223ac1",
   "metadata": {},
   "outputs": [
    {
     "data": {
      "text/plain": "['/Users/samuelchazy/ML_files_X/Applied_Projects/Competitions/Top_coders/Cancer_Immunotherapy/Winning_submissions/challenge_1_template/code/data/best_model.pkl']"
     },
     "execution_count": 42,
     "metadata": {},
     "output_type": "execute_result"
    }
   ],
   "source": [
    "#save the best model (RandomForestRegressor)\n",
    "\n",
    "best_model = grid.best_estimator_\n",
    "joblib.dump(best_model, '/Users/samuelchazy/ML_files_X/Applied_Projects/Competitions/Top_coders/Cancer_Immunotherapy/Winning_submissions/challenge_1_template/code/data/best_model.pkl')"
   ]
  },
  {
   "cell_type": "code",
   "execution_count": null,
   "outputs": [],
   "source": [],
   "metadata": {
    "collapsed": false
   }
  }
 ],
 "metadata": {
  "kernelspec": {
   "display_name": "Python 3",
   "language": "python",
   "name": "python3"
  },
  "language_info": {
   "codemirror_mode": {
    "name": "ipython",
    "version": 3
   },
   "file_extension": ".py",
   "mimetype": "text/x-python",
   "name": "python",
   "nbconvert_exporter": "python",
   "pygments_lexer": "ipython3",
   "version": "3.10.9 (tags/v3.10.9:1dd9be6, Dec  6 2022, 20:01:21) [MSC v.1934 64 bit (AMD64)]"
  },
  "vscode": {
   "interpreter": {
    "hash": "eeb8680eb43b9a87a49e32cc1c39b4f8c04117cd7cf42ba09bd4997cc8bf2498"
   }
  }
 },
 "nbformat": 4,
 "nbformat_minor": 5
}
