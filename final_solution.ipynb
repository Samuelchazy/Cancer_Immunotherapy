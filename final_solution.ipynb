{
 "cells": [
  {
   "cell_type": "code",
   "execution_count": 3,
   "metadata": {
    "collapsed": true
   },
   "outputs": [],
   "source": [
    "import os\n",
    "#os.system('pip install scanpy')\n",
    "import scanpy\n",
    "import pandas as pd\n",
    "import numpy as np\n",
    "import scanpy\n",
    "from sklearn.neighbors import NearestNeighbors"
   ]
  },
  {
   "cell_type": "code",
   "execution_count": 4,
   "outputs": [
    {
     "data": {
      "text/plain": "                                   gRNA_maxID               state  \\\n053l1_AAACCTGAGATGTCGG-1  ONE-NON-GENE-SITE-7  terminal exhausted   \n053l1_AAACCTGAGCAACGGT-1               Tox2-3            effector   \n053l1_AAACCTGAGTACGACG-1               Tpt1-2            effector   \n053l1_AAACCTGAGTCGTTTG-1               Tox2-3  terminal exhausted   \n053l1_AAACCTGAGTGAAGAG-1               Tcf7-2            effector   \n...                                       ...                 ...   \n053l4_TTTGTCATCAGGTTCA-1               Tox2-3               other   \n053l4_TTTGTCATCAGTGTTG-1               Dvl2-3             cycling   \n053l4_TTTGTCATCCTCGCAT-1               Zeb2-2             cycling   \n053l4_TTTGTCATCTTCAACT-1               Sox4-3             cycling   \n053l4_TTTGTCATCTTTCCTC-1               Dvl2-3             cycling   \n\n                            condition   lane  \n053l1_AAACCTGAGATGTCGG-1  Unperturbed  lane1  \n053l1_AAACCTGAGCAACGGT-1         Tox2  lane1  \n053l1_AAACCTGAGTACGACG-1         Tpt1  lane1  \n053l1_AAACCTGAGTCGTTTG-1         Tox2  lane1  \n053l1_AAACCTGAGTGAAGAG-1         Tcf7  lane1  \n...                               ...    ...  \n053l4_TTTGTCATCAGGTTCA-1         Tox2  lane4  \n053l4_TTTGTCATCAGTGTTG-1         Dvl2  lane4  \n053l4_TTTGTCATCCTCGCAT-1         Zeb2  lane4  \n053l4_TTTGTCATCTTCAACT-1         Sox4  lane4  \n053l4_TTTGTCATCTTTCCTC-1         Dvl2  lane4  \n\n[28697 rows x 4 columns]",
      "text/html": "<div>\n<style scoped>\n    .dataframe tbody tr th:only-of-type {\n        vertical-align: middle;\n    }\n\n    .dataframe tbody tr th {\n        vertical-align: top;\n    }\n\n    .dataframe thead th {\n        text-align: right;\n    }\n</style>\n<table border=\"1\" class=\"dataframe\">\n  <thead>\n    <tr style=\"text-align: right;\">\n      <th></th>\n      <th>gRNA_maxID</th>\n      <th>state</th>\n      <th>condition</th>\n      <th>lane</th>\n    </tr>\n  </thead>\n  <tbody>\n    <tr>\n      <th>053l1_AAACCTGAGATGTCGG-1</th>\n      <td>ONE-NON-GENE-SITE-7</td>\n      <td>terminal exhausted</td>\n      <td>Unperturbed</td>\n      <td>lane1</td>\n    </tr>\n    <tr>\n      <th>053l1_AAACCTGAGCAACGGT-1</th>\n      <td>Tox2-3</td>\n      <td>effector</td>\n      <td>Tox2</td>\n      <td>lane1</td>\n    </tr>\n    <tr>\n      <th>053l1_AAACCTGAGTACGACG-1</th>\n      <td>Tpt1-2</td>\n      <td>effector</td>\n      <td>Tpt1</td>\n      <td>lane1</td>\n    </tr>\n    <tr>\n      <th>053l1_AAACCTGAGTCGTTTG-1</th>\n      <td>Tox2-3</td>\n      <td>terminal exhausted</td>\n      <td>Tox2</td>\n      <td>lane1</td>\n    </tr>\n    <tr>\n      <th>053l1_AAACCTGAGTGAAGAG-1</th>\n      <td>Tcf7-2</td>\n      <td>effector</td>\n      <td>Tcf7</td>\n      <td>lane1</td>\n    </tr>\n    <tr>\n      <th>...</th>\n      <td>...</td>\n      <td>...</td>\n      <td>...</td>\n      <td>...</td>\n    </tr>\n    <tr>\n      <th>053l4_TTTGTCATCAGGTTCA-1</th>\n      <td>Tox2-3</td>\n      <td>other</td>\n      <td>Tox2</td>\n      <td>lane4</td>\n    </tr>\n    <tr>\n      <th>053l4_TTTGTCATCAGTGTTG-1</th>\n      <td>Dvl2-3</td>\n      <td>cycling</td>\n      <td>Dvl2</td>\n      <td>lane4</td>\n    </tr>\n    <tr>\n      <th>053l4_TTTGTCATCCTCGCAT-1</th>\n      <td>Zeb2-2</td>\n      <td>cycling</td>\n      <td>Zeb2</td>\n      <td>lane4</td>\n    </tr>\n    <tr>\n      <th>053l4_TTTGTCATCTTCAACT-1</th>\n      <td>Sox4-3</td>\n      <td>cycling</td>\n      <td>Sox4</td>\n      <td>lane4</td>\n    </tr>\n    <tr>\n      <th>053l4_TTTGTCATCTTTCCTC-1</th>\n      <td>Dvl2-3</td>\n      <td>cycling</td>\n      <td>Dvl2</td>\n      <td>lane4</td>\n    </tr>\n  </tbody>\n</table>\n<p>28697 rows × 4 columns</p>\n</div>"
     },
     "execution_count": 4,
     "metadata": {},
     "output_type": "execute_result"
    }
   ],
   "source": [
    "adata = scanpy.read_h5ad('data/sc_training.h5ad')\n",
    "adata.obs"
   ],
   "metadata": {
    "collapsed": false
   }
  },
  {
   "cell_type": "code",
   "execution_count": 5,
   "outputs": [
    {
     "data": {
      "text/plain": "Unperturbed    4978\nTox2           4333\nArid5b         2402\nDvl2           2173\nIrf2           1155\n               ... \nBatf              6\nKlf2              5\nTbx21             2\nRps6              2\nEef2              1\nName: condition, Length: 67, dtype: int64"
     },
     "execution_count": 5,
     "metadata": {},
     "output_type": "execute_result"
    }
   ],
   "source": [
    "counts = adata.obs.condition.value_counts()\n",
    "counts"
   ],
   "metadata": {
    "collapsed": false
   }
  },
  {
   "cell_type": "code",
   "execution_count": 6,
   "outputs": [
    {
     "data": {
      "text/plain": "CategoricalIndex(['Unperturbed', 'Tox2', 'Arid5b', 'Dvl2', 'Irf2', 'Il12rb1',\n                  'Zeb2', 'Crem', 'Hif1a', 'Nr4a2', 'Arid4b', 'Dvl1', 'Nr4a3',\n                  'Sp100', 'Ikzf3', 'Satb1', 'Prdm1', 'Hmgb1', 'Nr3c1',\n                  'Litaf', 'Runx2', 'Sox4', 'Zfp292', 'Tcf7', 'Fzd1', 'Gsk3b',\n                  'Egr1', 'Fzd6', 'Ldhb', 'Il12rb2', 'Nr4a1', 'Foxp1', 'Atf2',\n                  'Fzd3', 'Sub1', 'Id2', 'Lef1', 'Irf9', 'Hmgb2', 'Rela',\n                  'Dvl3', 'Foxo1', 'Tcf3', 'Elf1', 'Lrp1', 'Oxnad1', 'Foxm1',\n                  'Dkk3', 'Id3', 'P2rx7', 'Ctnnb1', 'Tox', 'Sp140', 'Myb'],\n                 categories=['Arid4b', 'Arid5b', 'Atf2', 'Batf', ..., 'Unperturbed', 'Yy1', 'Zeb2', 'Zfp292'], ordered=False, dtype='category')"
     },
     "execution_count": 6,
     "metadata": {},
     "output_type": "execute_result"
    }
   ],
   "source": [
    "good_genes = counts[counts > 30].index\n",
    "good_genes"
   ],
   "metadata": {
    "collapsed": false
   }
  },
  {
   "cell_type": "code",
   "execution_count": 9,
   "outputs": [
    {
     "data": {
      "text/plain": "['Id2',\n 'Dvl2',\n 'Zeb2',\n 'Litaf',\n 'Gsk3b',\n 'Sox4',\n 'Foxp1',\n 'Lrp1',\n 'Nr4a2',\n 'Dkk3',\n 'Nr4a1',\n 'Fzd3',\n 'Satb1',\n 'Sp100',\n 'Ikzf3',\n 'Zfp292',\n 'Irf9',\n 'Sub1',\n 'Ldhb',\n 'Nr3c1',\n 'Oxnad1',\n 'Sp140',\n 'Lef1',\n 'Hmgb1',\n 'Dvl1',\n 'Hif1a',\n 'Foxo1',\n 'Arid4b',\n 'Runx2',\n 'Nr4a3',\n 'Elf1',\n 'Fzd6',\n 'Tcf7',\n 'Prdm1',\n 'Il12rb2',\n 'Il12rb1',\n 'Crem',\n 'Tox2',\n 'Dvl3',\n 'Myb',\n 'Foxm1',\n 'Tox',\n 'Hmgb2',\n 'Id3',\n 'Ctnnb1',\n 'Irf2',\n 'Tcf3',\n 'Rela',\n 'Egr1',\n 'Arid5b',\n 'Atf2',\n 'Aqr',\n 'Bach2',\n 'Bhlhe40',\n 'Ets1',\n 'Fosb',\n 'Mafk',\n 'Stat3']"
     },
     "execution_count": 9,
     "metadata": {},
     "output_type": "execute_result"
    }
   ],
   "source": [
    "nn_genes = set(good_genes) - {'Fzd1', 'P2rx7', 'Unperturbed'}\n",
    "nn_genes = list(nn_genes) + ['Aqr', 'Bach2', 'Bhlhe40', 'Ets1', 'Fosb', 'Mafk', 'Stat3']\n",
    "nn_genes"
   ],
   "metadata": {
    "collapsed": false
   }
  },
  {
   "cell_type": "code",
   "execution_count": 10,
   "outputs": [
    {
     "data": {
      "text/plain": "{(0, 'progenitor'): 0.27350427350427353,\n (0, 'effector'): 0.20512820512820512,\n (0, 'terminal exhausted'): 0.21367521367521367,\n (0, 'cycling'): 0.2905982905982906,\n (0, 'other'): 0.017094017094017096,\n (1, 'progenitor'): 0.024390243902439025,\n (1, 'effector'): 0.1155085135757018,\n (1, 'terminal exhausted'): 0.3041877588587207,\n (1, 'cycling'): 0.5494707777266452,\n (1, 'other'): 0.006442705936493327,\n (2, 'progenitor'): 0.017482517482517484,\n (2, 'effector'): 0.11538461538461539,\n (2, 'terminal exhausted'): 0.28205128205128205,\n (2, 'cycling'): 0.4393939393939394,\n (2, 'other'): 0.1456876456876457,\n (3, 'progenitor'): 0.07162534435261708,\n (3, 'effector'): 0.3526170798898072,\n (3, 'terminal exhausted'): 0.2369146005509642,\n (3, 'cycling'): 0.3278236914600551,\n (3, 'other'): 0.011019283746556474,\n (4, 'progenitor'): 0.2978723404255319,\n (4, 'effector'): 0.11063829787234042,\n (4, 'terminal exhausted'): 0.251063829787234,\n (4, 'cycling'): 0.31063829787234043,\n (4, 'other'): 0.029787234042553193,\n (5, 'progenitor'): 0.0696969696969697,\n (5, 'effector'): 0.11212121212121212,\n (5, 'terminal exhausted'): 0.2909090909090909,\n (5, 'cycling'): 0.5121212121212121,\n (5, 'other'): 0.015151515151515152,\n (6, 'progenitor'): 0.1111111111111111,\n (6, 'effector'): 0.20915032679738563,\n (6, 'terminal exhausted'): 0.32679738562091504,\n (6, 'cycling'): 0.3333333333333333,\n (6, 'other'): 0.0196078431372549,\n (7, 'progenitor'): 0.3055555555555556,\n (7, 'effector'): 0.16666666666666666,\n (7, 'terminal exhausted'): 0.375,\n (7, 'cycling'): 0.1388888888888889,\n (7, 'other'): 0.013888888888888888,\n (8, 'progenitor'): 0.19705882352941176,\n (8, 'effector'): 0.07941176470588235,\n (8, 'terminal exhausted'): 0.3,\n (8, 'cycling'): 0.4102941176470588,\n (8, 'other'): 0.013235294117647059,\n (9, 'progenitor'): 0.1875,\n (9, 'effector'): 0.20833333333333334,\n (9, 'terminal exhausted'): 0.22916666666666666,\n (9, 'cycling'): 0.375,\n (9, 'other'): 0.0,\n (10, 'progenitor'): 0.2826086956521739,\n (10, 'effector'): 0.13043478260869565,\n (10, 'terminal exhausted'): 0.29347826086956524,\n (10, 'cycling'): 0.28804347826086957,\n (10, 'other'): 0.005434782608695652,\n (11, 'progenitor'): 0.19424460431654678,\n (11, 'effector'): 0.2014388489208633,\n (11, 'terminal exhausted'): 0.22302158273381295,\n (11, 'cycling'): 0.3597122302158273,\n (11, 'other'): 0.02158273381294964,\n (12, 'progenitor'): 0.19246031746031747,\n (12, 'effector'): 0.25992063492063494,\n (12, 'terminal exhausted'): 0.20634920634920634,\n (12, 'cycling'): 0.3194444444444444,\n (12, 'other'): 0.021825396825396824,\n (13, 'progenitor'): 0.024475524475524476,\n (13, 'effector'): 0.28846153846153844,\n (13, 'terminal exhausted'): 0.28146853146853146,\n (13, 'cycling'): 0.3916083916083916,\n (13, 'other'): 0.013986013986013986,\n (14, 'progenitor'): 0.053003533568904596,\n (14, 'effector'): 0.127208480565371,\n (14, 'terminal exhausted'): 0.38869257950530034,\n (14, 'cycling'): 0.41519434628975266,\n (14, 'other'): 0.015901060070671377,\n (15, 'progenitor'): 0.12460063897763578,\n (15, 'effector'): 0.5559105431309904,\n (15, 'terminal exhausted'): 0.09904153354632587,\n (15, 'cycling'): 0.2108626198083067,\n (15, 'other'): 0.009584664536741214,\n (16, 'progenitor'): 0.375,\n (16, 'effector'): 0.17708333333333334,\n (16, 'terminal exhausted'): 0.23958333333333334,\n (16, 'cycling'): 0.19791666666666666,\n (16, 'other'): 0.010416666666666666,\n (17, 'progenitor'): 0.11194029850746269,\n (17, 'effector'): 0.19402985074626866,\n (17, 'terminal exhausted'): 0.30597014925373134,\n (17, 'cycling'): 0.373134328358209,\n (17, 'other'): 0.014925373134328358,\n (18, 'progenitor'): 0.10309278350515463,\n (18, 'effector'): 0.13402061855670103,\n (18, 'terminal exhausted'): 0.34536082474226804,\n (18, 'cycling'): 0.41237113402061853,\n (18, 'other'): 0.005154639175257732,\n (19, 'progenitor'): 0.050666666666666665,\n (19, 'effector'): 0.09066666666666667,\n (19, 'terminal exhausted'): 0.312,\n (19, 'cycling'): 0.5333333333333333,\n (19, 'other'): 0.013333333333333334,\n (20, 'progenitor'): 0.423728813559322,\n (20, 'effector'): 0.2542372881355932,\n (20, 'terminal exhausted'): 0.13559322033898305,\n (20, 'cycling'): 0.1864406779661017,\n (20, 'other'): 0.0,\n (21, 'progenitor'): 0.5151515151515151,\n (21, 'effector'): 0.12121212121212122,\n (21, 'terminal exhausted'): 0.12121212121212122,\n (21, 'cycling'): 0.24242424242424243,\n (21, 'other'): 0.0,\n (22, 'progenitor'): 0.27,\n (22, 'effector'): 0.28,\n (22, 'terminal exhausted'): 0.18,\n (22, 'cycling'): 0.26,\n (22, 'other'): 0.01,\n (23, 'progenitor'): 0.07161803713527852,\n (23, 'effector'): 0.23076923076923078,\n (23, 'terminal exhausted'): 0.33687002652519893,\n (23, 'cycling'): 0.3421750663129973,\n (23, 'other'): 0.01856763925729443,\n (24, 'progenitor'): 0.04201680672268908,\n (24, 'effector'): 0.30756302521008405,\n (24, 'terminal exhausted'): 0.2672268907563025,\n (24, 'cycling'): 0.36470588235294116,\n (24, 'other'): 0.018487394957983194,\n (25, 'progenitor'): 0.032116788321167884,\n (25, 'effector'): 0.11678832116788321,\n (25, 'terminal exhausted'): 0.3372262773722628,\n (25, 'cycling'): 0.5065693430656935,\n (25, 'other'): 0.0072992700729927005,\n (26, 'progenitor'): 0.1,\n (26, 'effector'): 0.18888888888888888,\n (26, 'terminal exhausted'): 0.35555555555555557,\n (26, 'cycling'): 0.35555555555555557,\n (26, 'other'): 0.0,\n (27, 'progenitor'): 0.05660377358490566,\n (27, 'effector'): 0.1179245283018868,\n (27, 'terminal exhausted'): 0.38836477987421386,\n (27, 'cycling'): 0.4261006289308176,\n (27, 'other'): 0.0110062893081761,\n (28, 'progenitor'): 0.034383954154727794,\n (28, 'effector'): 0.2808022922636103,\n (28, 'terminal exhausted'): 0.27507163323782235,\n (28, 'cycling'): 0.3954154727793696,\n (28, 'other'): 0.014326647564469915,\n (29, 'progenitor'): 0.28040540540540543,\n (29, 'effector'): 0.16722972972972974,\n (29, 'terminal exhausted'): 0.23648648648648649,\n (29, 'cycling'): 0.30236486486486486,\n (29, 'other'): 0.013513513513513514,\n (30, 'progenitor'): 0.2602739726027397,\n (30, 'effector'): 0.3424657534246575,\n (30, 'terminal exhausted'): 0.1780821917808219,\n (30, 'cycling'): 0.2054794520547945,\n (30, 'other'): 0.0136986301369863,\n (31, 'progenitor'): 0.135678391959799,\n (31, 'effector'): 0.2613065326633166,\n (31, 'terminal exhausted'): 0.2613065326633166,\n (31, 'cycling'): 0.32663316582914576,\n (31, 'other'): 0.01507537688442211,\n (32, 'progenitor'): 0.10437710437710437,\n (32, 'effector'): 0.29292929292929293,\n (32, 'terminal exhausted'): 0.31313131313131315,\n (32, 'cycling'): 0.2760942760942761,\n (32, 'other'): 0.013468013468013467,\n (33, 'progenitor'): 0.2994791666666667,\n (33, 'effector'): 0.08854166666666667,\n (33, 'terminal exhausted'): 0.24739583333333334,\n (33, 'cycling'): 0.3541666666666667,\n (33, 'other'): 0.010416666666666666,\n (34, 'progenitor'): 0.18181818181818182,\n (34, 'effector'): 0.20320855614973263,\n (34, 'terminal exhausted'): 0.3048128342245989,\n (34, 'cycling'): 0.29411764705882354,\n (34, 'other'): 0.016042780748663103,\n (35, 'progenitor'): 0.032520325203252036,\n (35, 'effector'): 0.18699186991869918,\n (35, 'terminal exhausted'): 0.3159117305458769,\n (35, 'cycling'): 0.45063879210220675,\n (35, 'other'): 0.013937282229965157,\n (36, 'progenitor'): 0.03416557161629435,\n (36, 'effector'): 0.42575558475689884,\n (36, 'terminal exhausted'): 0.21419185282522996,\n (36, 'cycling'): 0.3088042049934297,\n (36, 'other'): 0.017082785808147174,\n (37, 'progenitor'): 0.017309023771059313,\n (37, 'effector'): 0.05700438495268867,\n (37, 'terminal exhausted'): 0.36787445188091394,\n (37, 'cycling'): 0.5308100623124856,\n (37, 'other'): 0.027002077082852526,\n (38, 'progenitor'): 0.34782608695652173,\n (38, 'effector'): 0.16304347826086957,\n (38, 'terminal exhausted'): 0.2391304347826087,\n (38, 'cycling'): 0.22826086956521738,\n (38, 'other'): 0.021739130434782608,\n (39, 'progenitor'): 0.41935483870967744,\n (39, 'effector'): 0.22580645161290322,\n (39, 'terminal exhausted'): 0.1935483870967742,\n (39, 'cycling'): 0.16129032258064516,\n (39, 'other'): 0.0,\n (40, 'progenitor'): 0.6428571428571429,\n (40, 'effector'): 0.07142857142857142,\n (40, 'terminal exhausted'): 0.14285714285714285,\n (40, 'cycling'): 0.14285714285714285,\n (40, 'other'): 0.0,\n (41, 'progenitor'): 0.1891891891891892,\n (41, 'effector'): 0.43243243243243246,\n (41, 'terminal exhausted'): 0.21621621621621623,\n (41, 'cycling'): 0.13513513513513514,\n (41, 'other'): 0.02702702702702703,\n (42, 'progenitor'): 0.23157894736842105,\n (42, 'effector'): 0.18947368421052632,\n (42, 'terminal exhausted'): 0.25263157894736843,\n (42, 'cycling'): 0.3263157894736842,\n (42, 'other'): 0.0,\n (43, 'progenitor'): 0.391304347826087,\n (43, 'effector'): 0.08695652173913043,\n (43, 'terminal exhausted'): 0.21739130434782608,\n (43, 'cycling'): 0.30434782608695654,\n (43, 'other'): 0.0,\n (44, 'progenitor'): 0.5348837209302325,\n (44, 'effector'): 0.20930232558139536,\n (44, 'terminal exhausted'): 0.13953488372093023,\n (44, 'cycling'): 0.11627906976744186,\n (44, 'other'): 0.0,\n (45, 'progenitor'): 0.03463203463203463,\n (45, 'effector'): 0.16277056277056276,\n (45, 'terminal exhausted'): 0.3333333333333333,\n (45, 'cycling'): 0.45194805194805193,\n (45, 'other'): 0.017316017316017316,\n (46, 'progenitor'): 0.14606741573033707,\n (46, 'effector'): 0.16853932584269662,\n (46, 'terminal exhausted'): 0.21348314606741572,\n (46, 'cycling'): 0.449438202247191,\n (46, 'other'): 0.02247191011235955,\n (47, 'progenitor'): 0.22826086956521738,\n (47, 'effector'): 0.29347826086956524,\n (47, 'terminal exhausted'): 0.14130434782608695,\n (47, 'cycling'): 0.2826086956521739,\n (47, 'other'): 0.05434782608695652,\n (48, 'progenitor'): 0.27467811158798283,\n (48, 'effector'): 0.27896995708154504,\n (48, 'terminal exhausted'): 0.2317596566523605,\n (48, 'cycling'): 0.2145922746781116,\n (48, 'other'): 0.0,\n (49, 'progenitor'): 0.011240632805995004,\n (49, 'effector'): 0.04454621149042465,\n (49, 'terminal exhausted'): 0.41298917568692756,\n (49, 'cycling'): 0.5137385512073273,\n (49, 'other'): 0.017485428809325562,\n (50, 'progenitor'): 0.12056737588652482,\n (50, 'effector'): 0.24822695035460993,\n (50, 'terminal exhausted'): 0.3049645390070922,\n (50, 'cycling'): 0.2978723404255319,\n (50, 'other'): 0.028368794326241134}"
     },
     "execution_count": 10,
     "metadata": {},
     "output_type": "execute_result"
    }
   ],
   "source": [
    "mean_data = {}\n",
    "targets = ['progenitor', 'effector', 'terminal exhausted', 'cycling', 'other']\n",
    "for i, gene in enumerate(nn_genes[:-7]):\n",
    "    for target in targets:\n",
    "        sh = adata[adata.obs.condition == gene].shape\n",
    "        mean_ = 0\n",
    "        if len(sh):\n",
    "            sh1 = adata[(adata.obs.condition == gene) & (adata.obs.state == target)].shape\n",
    "            if len(sh1):\n",
    "                mean_ = sh1[0] / sh[0]\n",
    "        mean_data[(i, target)] = mean_\n",
    "\n",
    "mean_data"
   ],
   "metadata": {
    "collapsed": false
   }
  },
  {
   "cell_type": "code",
   "execution_count": 41,
   "outputs": [],
   "source": [
    "keys = []\n",
    "for gene in nn_genes:\n",
    "    keys += [np.where(adata.var.index == gene)[0][0]]"
   ],
   "metadata": {
    "collapsed": false
   }
  },
  {
   "cell_type": "code",
   "execution_count": 13,
   "outputs": [
    {
     "data": {
      "text/plain": "NearestNeighbors(p=1)",
      "text/html": "<style>#sk-container-id-1 {color: black;background-color: white;}#sk-container-id-1 pre{padding: 0;}#sk-container-id-1 div.sk-toggleable {background-color: white;}#sk-container-id-1 label.sk-toggleable__label {cursor: pointer;display: block;width: 100%;margin-bottom: 0;padding: 0.3em;box-sizing: border-box;text-align: center;}#sk-container-id-1 label.sk-toggleable__label-arrow:before {content: \"▸\";float: left;margin-right: 0.25em;color: #696969;}#sk-container-id-1 label.sk-toggleable__label-arrow:hover:before {color: black;}#sk-container-id-1 div.sk-estimator:hover label.sk-toggleable__label-arrow:before {color: black;}#sk-container-id-1 div.sk-toggleable__content {max-height: 0;max-width: 0;overflow: hidden;text-align: left;background-color: #f0f8ff;}#sk-container-id-1 div.sk-toggleable__content pre {margin: 0.2em;color: black;border-radius: 0.25em;background-color: #f0f8ff;}#sk-container-id-1 input.sk-toggleable__control:checked~div.sk-toggleable__content {max-height: 200px;max-width: 100%;overflow: auto;}#sk-container-id-1 input.sk-toggleable__control:checked~label.sk-toggleable__label-arrow:before {content: \"▾\";}#sk-container-id-1 div.sk-estimator input.sk-toggleable__control:checked~label.sk-toggleable__label {background-color: #d4ebff;}#sk-container-id-1 div.sk-label input.sk-toggleable__control:checked~label.sk-toggleable__label {background-color: #d4ebff;}#sk-container-id-1 input.sk-hidden--visually {border: 0;clip: rect(1px 1px 1px 1px);clip: rect(1px, 1px, 1px, 1px);height: 1px;margin: -1px;overflow: hidden;padding: 0;position: absolute;width: 1px;}#sk-container-id-1 div.sk-estimator {font-family: monospace;background-color: #f0f8ff;border: 1px dotted black;border-radius: 0.25em;box-sizing: border-box;margin-bottom: 0.5em;}#sk-container-id-1 div.sk-estimator:hover {background-color: #d4ebff;}#sk-container-id-1 div.sk-parallel-item::after {content: \"\";width: 100%;border-bottom: 1px solid gray;flex-grow: 1;}#sk-container-id-1 div.sk-label:hover label.sk-toggleable__label {background-color: #d4ebff;}#sk-container-id-1 div.sk-serial::before {content: \"\";position: absolute;border-left: 1px solid gray;box-sizing: border-box;top: 0;bottom: 0;left: 50%;z-index: 0;}#sk-container-id-1 div.sk-serial {display: flex;flex-direction: column;align-items: center;background-color: white;padding-right: 0.2em;padding-left: 0.2em;position: relative;}#sk-container-id-1 div.sk-item {position: relative;z-index: 1;}#sk-container-id-1 div.sk-parallel {display: flex;align-items: stretch;justify-content: center;background-color: white;position: relative;}#sk-container-id-1 div.sk-item::before, #sk-container-id-1 div.sk-parallel-item::before {content: \"\";position: absolute;border-left: 1px solid gray;box-sizing: border-box;top: 0;bottom: 0;left: 50%;z-index: -1;}#sk-container-id-1 div.sk-parallel-item {display: flex;flex-direction: column;z-index: 1;position: relative;background-color: white;}#sk-container-id-1 div.sk-parallel-item:first-child::after {align-self: flex-end;width: 50%;}#sk-container-id-1 div.sk-parallel-item:last-child::after {align-self: flex-start;width: 50%;}#sk-container-id-1 div.sk-parallel-item:only-child::after {width: 0;}#sk-container-id-1 div.sk-dashed-wrapped {border: 1px dashed gray;margin: 0 0.4em 0.5em 0.4em;box-sizing: border-box;padding-bottom: 0.4em;background-color: white;}#sk-container-id-1 div.sk-label label {font-family: monospace;font-weight: bold;display: inline-block;line-height: 1.2em;}#sk-container-id-1 div.sk-label-container {text-align: center;}#sk-container-id-1 div.sk-container {/* jupyter's `normalize.less` sets `[hidden] { display: none; }` but bootstrap.min.css set `[hidden] { display: none !important; }` so we also need the `!important` here to be able to override the default hidden behavior on the sphinx rendered scikit-learn.org. See: https://github.com/scikit-learn/scikit-learn/issues/21755 */display: inline-block !important;position: relative;}#sk-container-id-1 div.sk-text-repr-fallback {display: none;}</style><div id=\"sk-container-id-1\" class=\"sk-top-container\"><div class=\"sk-text-repr-fallback\"><pre>NearestNeighbors(p=1)</pre><b>In a Jupyter environment, please rerun this cell to show the HTML representation or trust the notebook. <br />On GitHub, the HTML representation is unable to render, please try loading this page with nbviewer.org.</b></div><div class=\"sk-container\" hidden><div class=\"sk-item\"><div class=\"sk-estimator sk-toggleable\"><input class=\"sk-toggleable__control sk-hidden--visually\" id=\"sk-estimator-id-1\" type=\"checkbox\" checked><label for=\"sk-estimator-id-1\" class=\"sk-toggleable__label sk-toggleable__label-arrow\">NearestNeighbors</label><div class=\"sk-toggleable__content\"><pre>NearestNeighbors(p=1)</pre></div></div></div></div></div>"
     },
     "execution_count": 13,
     "metadata": {},
     "output_type": "execute_result"
    }
   ],
   "source": [
    "clf = NearestNeighbors(n_neighbors=5, p=1)\n",
    "clf.fit(adata.X.T[keys[:-7]])"
   ],
   "metadata": {
    "collapsed": false
   }
  },
  {
   "cell_type": "code",
   "execution_count": 40,
   "outputs": [
    {
     "data": {
      "text/plain": "array([[11,  9,  7,  5, 31],\n       [11,  9,  7,  5, 31],\n       [ 3,  8,  0, 17, 25],\n       [13, 30, 25, 41, 28],\n       [11,  7,  9,  5, 31],\n       [11,  9,  7,  5, 31],\n       [ 3,  0,  8, 17, 25]])"
     },
     "execution_count": 40,
     "metadata": {},
     "output_type": "execute_result"
    }
   ],
   "source": [
    "clf.kneighbors(adata.X.T[keys[-7:]])[1]"
   ],
   "metadata": {
    "collapsed": false
   }
  },
  {
   "cell_type": "code",
   "execution_count": 17,
   "outputs": [
    {
     "data": {
      "text/plain": "          0         1         2         3         4\n0  0.178535  0.189973  0.275881  0.342471  0.013140\n1  0.178535  0.189973  0.275881  0.342471  0.013140\n2  0.137249  0.189595  0.278757  0.381684  0.012715\n3  0.108088  0.292190  0.257613  0.326842  0.015268\n4  0.178535  0.189973  0.275881  0.342471  0.013140\n5  0.178535  0.189973  0.275881  0.342471  0.013140\n6  0.137249  0.189595  0.278757  0.381684  0.012715",
      "text/html": "<div>\n<style scoped>\n    .dataframe tbody tr th:only-of-type {\n        vertical-align: middle;\n    }\n\n    .dataframe tbody tr th {\n        vertical-align: top;\n    }\n\n    .dataframe thead th {\n        text-align: right;\n    }\n</style>\n<table border=\"1\" class=\"dataframe\">\n  <thead>\n    <tr style=\"text-align: right;\">\n      <th></th>\n      <th>0</th>\n      <th>1</th>\n      <th>2</th>\n      <th>3</th>\n      <th>4</th>\n    </tr>\n  </thead>\n  <tbody>\n    <tr>\n      <th>0</th>\n      <td>0.178535</td>\n      <td>0.189973</td>\n      <td>0.275881</td>\n      <td>0.342471</td>\n      <td>0.013140</td>\n    </tr>\n    <tr>\n      <th>1</th>\n      <td>0.178535</td>\n      <td>0.189973</td>\n      <td>0.275881</td>\n      <td>0.342471</td>\n      <td>0.013140</td>\n    </tr>\n    <tr>\n      <th>2</th>\n      <td>0.137249</td>\n      <td>0.189595</td>\n      <td>0.278757</td>\n      <td>0.381684</td>\n      <td>0.012715</td>\n    </tr>\n    <tr>\n      <th>3</th>\n      <td>0.108088</td>\n      <td>0.292190</td>\n      <td>0.257613</td>\n      <td>0.326842</td>\n      <td>0.015268</td>\n    </tr>\n    <tr>\n      <th>4</th>\n      <td>0.178535</td>\n      <td>0.189973</td>\n      <td>0.275881</td>\n      <td>0.342471</td>\n      <td>0.013140</td>\n    </tr>\n    <tr>\n      <th>5</th>\n      <td>0.178535</td>\n      <td>0.189973</td>\n      <td>0.275881</td>\n      <td>0.342471</td>\n      <td>0.013140</td>\n    </tr>\n    <tr>\n      <th>6</th>\n      <td>0.137249</td>\n      <td>0.189595</td>\n      <td>0.278757</td>\n      <td>0.381684</td>\n      <td>0.012715</td>\n    </tr>\n  </tbody>\n</table>\n</div>"
     },
     "execution_count": 17,
     "metadata": {},
     "output_type": "execute_result"
    }
   ],
   "source": [
    "answer = []\n",
    "for ind in clf.kneighbors(adata.X.T[keys[-7:]])[1]:\n",
    "    tmp_answer = [np.mean([mean_data[(i, target)] for i in ind]) for target in targets]\n",
    "    answer += [tmp_answer]\n",
    "\n",
    "pd.DataFrame(answer)"
   ],
   "metadata": {
    "collapsed": false
   }
  },
  {
   "cell_type": "code",
   "execution_count": 15,
   "outputs": [
    {
     "data": {
      "text/plain": "      gene       a_i       b_i       c_i       d_i       e_i\n0      Aqr  0.178535  0.189973  0.275881  0.342471  0.013140\n1    Bach2  0.178535  0.189973  0.275881  0.342471  0.013140\n2  Bhlhe40  0.137249  0.189595  0.278757  0.381684  0.012715",
      "text/html": "<div>\n<style scoped>\n    .dataframe tbody tr th:only-of-type {\n        vertical-align: middle;\n    }\n\n    .dataframe tbody tr th {\n        vertical-align: top;\n    }\n\n    .dataframe thead th {\n        text-align: right;\n    }\n</style>\n<table border=\"1\" class=\"dataframe\">\n  <thead>\n    <tr style=\"text-align: right;\">\n      <th></th>\n      <th>gene</th>\n      <th>a_i</th>\n      <th>b_i</th>\n      <th>c_i</th>\n      <th>d_i</th>\n      <th>e_i</th>\n    </tr>\n  </thead>\n  <tbody>\n    <tr>\n      <th>0</th>\n      <td>Aqr</td>\n      <td>0.178535</td>\n      <td>0.189973</td>\n      <td>0.275881</td>\n      <td>0.342471</td>\n      <td>0.013140</td>\n    </tr>\n    <tr>\n      <th>1</th>\n      <td>Bach2</td>\n      <td>0.178535</td>\n      <td>0.189973</td>\n      <td>0.275881</td>\n      <td>0.342471</td>\n      <td>0.013140</td>\n    </tr>\n    <tr>\n      <th>2</th>\n      <td>Bhlhe40</td>\n      <td>0.137249</td>\n      <td>0.189595</td>\n      <td>0.278757</td>\n      <td>0.381684</td>\n      <td>0.012715</td>\n    </tr>\n  </tbody>\n</table>\n</div>"
     },
     "execution_count": 15,
     "metadata": {},
     "output_type": "execute_result"
    }
   ],
   "source": [
    "predict_df = pd.DataFrame(answer[:3], columns=['a_i', 'b_i', 'c_i', 'd_i', 'e_i'])\n",
    "predict_df['gene'] = ['Aqr', 'Bach2', 'Bhlhe40']\n",
    "predict_df = predict_df[['gene', 'a_i', 'b_i', 'c_i', 'd_i', 'e_i']]\n",
    "predict_df.to_csv('validation_output.csv', index=None)\n",
    "predict_df"
   ],
   "metadata": {
    "collapsed": false
   }
  },
  {
   "cell_type": "code",
   "execution_count": 16,
   "outputs": [
    {
     "data": {
      "text/plain": "    gene       a_i       b_i       c_i       d_i       e_i\n0   Ets1  0.108088  0.292190  0.257613  0.326842  0.015268\n1   Fosb  0.178535  0.189973  0.275881  0.342471  0.013140\n2   Mafk  0.178535  0.189973  0.275881  0.342471  0.013140\n3  Stat3  0.137249  0.189595  0.278757  0.381684  0.012715",
      "text/html": "<div>\n<style scoped>\n    .dataframe tbody tr th:only-of-type {\n        vertical-align: middle;\n    }\n\n    .dataframe tbody tr th {\n        vertical-align: top;\n    }\n\n    .dataframe thead th {\n        text-align: right;\n    }\n</style>\n<table border=\"1\" class=\"dataframe\">\n  <thead>\n    <tr style=\"text-align: right;\">\n      <th></th>\n      <th>gene</th>\n      <th>a_i</th>\n      <th>b_i</th>\n      <th>c_i</th>\n      <th>d_i</th>\n      <th>e_i</th>\n    </tr>\n  </thead>\n  <tbody>\n    <tr>\n      <th>0</th>\n      <td>Ets1</td>\n      <td>0.108088</td>\n      <td>0.292190</td>\n      <td>0.257613</td>\n      <td>0.326842</td>\n      <td>0.015268</td>\n    </tr>\n    <tr>\n      <th>1</th>\n      <td>Fosb</td>\n      <td>0.178535</td>\n      <td>0.189973</td>\n      <td>0.275881</td>\n      <td>0.342471</td>\n      <td>0.013140</td>\n    </tr>\n    <tr>\n      <th>2</th>\n      <td>Mafk</td>\n      <td>0.178535</td>\n      <td>0.189973</td>\n      <td>0.275881</td>\n      <td>0.342471</td>\n      <td>0.013140</td>\n    </tr>\n    <tr>\n      <th>3</th>\n      <td>Stat3</td>\n      <td>0.137249</td>\n      <td>0.189595</td>\n      <td>0.278757</td>\n      <td>0.381684</td>\n      <td>0.012715</td>\n    </tr>\n  </tbody>\n</table>\n</div>"
     },
     "execution_count": 16,
     "metadata": {},
     "output_type": "execute_result"
    }
   ],
   "source": [
    "predict_df = pd.DataFrame(answer[3:], columns=['a_i', 'b_i', 'c_i', 'd_i', 'e_i'])\n",
    "predict_df['gene'] = ['Ets1', 'Fosb', 'Mafk', 'Stat3']\n",
    "predict_df = predict_df[['gene', 'a_i', 'b_i', 'c_i', 'd_i', 'e_i']]\n",
    "predict_df.to_csv('test_output.csv', index=None)\n",
    "predict_df"
   ],
   "metadata": {
    "collapsed": false
   }
  },
  {
   "cell_type": "code",
   "execution_count": null,
   "outputs": [],
   "source": [],
   "metadata": {
    "collapsed": false
   }
  }
 ],
 "metadata": {
  "kernelspec": {
   "display_name": "Python 3",
   "language": "python",
   "name": "python3"
  },
  "language_info": {
   "codemirror_mode": {
    "name": "ipython",
    "version": 2
   },
   "file_extension": ".py",
   "mimetype": "text/x-python",
   "name": "python",
   "nbconvert_exporter": "python",
   "pygments_lexer": "ipython2",
   "version": "2.7.6"
  }
 },
 "nbformat": 4,
 "nbformat_minor": 0
}
