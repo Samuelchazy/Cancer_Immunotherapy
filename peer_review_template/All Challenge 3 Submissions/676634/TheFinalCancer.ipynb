{
 "cells": [
  {
   "cell_type": "code",
   "execution_count": 1,
   "metadata": {
    "colab": {
     "base_uri": "https://localhost:8080/",
     "height": 1000
    },
    "id": "-0lCghE_-xYi",
    "outputId": "b59df9b4-a785-4c46-b29e-dd738557c331"
   },
   "outputs": [
    {
     "name": "stdout",
     "output_type": "stream",
     "text": [
      "Looking in indexes: https://pypi.org/simple, https://us-python.pkg.dev/colab-wheels/public/simple/\n",
      "Collecting scanpy\n",
      "  Downloading scanpy-1.9.1-py3-none-any.whl (2.0 MB)\n",
      "\u001b[2K     \u001b[90m━━━━━━━━━━━━━━━━━━━━━━━━━━━━━━━━━━━━━━━━\u001b[0m \u001b[32m2.0/2.0 MB\u001b[0m \u001b[31m26.5 MB/s\u001b[0m eta \u001b[36m0:00:00\u001b[0m\n",
      "\u001b[?25hRequirement already satisfied: statsmodels>=0.10.0rc2 in /usr/local/lib/python3.8/dist-packages (from scanpy) (0.12.2)\n",
      "Requirement already satisfied: tqdm in /usr/local/lib/python3.8/dist-packages (from scanpy) (4.64.1)\n",
      "Requirement already satisfied: seaborn in /usr/local/lib/python3.8/dist-packages (from scanpy) (0.11.2)\n",
      "Requirement already satisfied: patsy in /usr/local/lib/python3.8/dist-packages (from scanpy) (0.5.3)\n",
      "Requirement already satisfied: networkx>=2.3 in /usr/local/lib/python3.8/dist-packages (from scanpy) (3.0)\n",
      "Collecting matplotlib>=3.4\n",
      "  Downloading matplotlib-3.6.3-cp38-cp38-manylinux_2_12_x86_64.manylinux2010_x86_64.whl (9.4 MB)\n",
      "\u001b[2K     \u001b[90m━━━━━━━━━━━━━━━━━━━━━━━━━━━━━━━━━━━━━━━━\u001b[0m \u001b[32m9.4/9.4 MB\u001b[0m \u001b[31m67.6 MB/s\u001b[0m eta \u001b[36m0:00:00\u001b[0m\n",
      "\u001b[?25hRequirement already satisfied: scikit-learn>=0.22 in /usr/local/lib/python3.8/dist-packages (from scanpy) (1.0.2)\n",
      "Collecting anndata>=0.7.4\n",
      "  Downloading anndata-0.8.0-py3-none-any.whl (96 kB)\n",
      "\u001b[2K     \u001b[90m━━━━━━━━━━━━━━━━━━━━━━━━━━━━━━━━━━━━━━━━\u001b[0m \u001b[32m96.1/96.1 KB\u001b[0m \u001b[31m12.0 MB/s\u001b[0m eta \u001b[36m0:00:00\u001b[0m\n",
      "\u001b[?25hRequirement already satisfied: packaging in /usr/local/lib/python3.8/dist-packages (from scanpy) (23.0)\n",
      "Collecting session-info\n",
      "  Downloading session_info-1.0.0.tar.gz (24 kB)\n",
      "  Preparing metadata (setup.py) ... \u001b[?25l\u001b[?25hdone\n",
      "Collecting umap-learn>=0.3.10\n",
      "  Downloading umap-learn-0.5.3.tar.gz (88 kB)\n",
      "\u001b[2K     \u001b[90m━━━━━━━━━━━━━━━━━━━━━━━━━━━━━━━━━━━━━━━━\u001b[0m \u001b[32m88.2/88.2 KB\u001b[0m \u001b[31m10.7 MB/s\u001b[0m eta \u001b[36m0:00:00\u001b[0m\n",
      "\u001b[?25h  Preparing metadata (setup.py) ... \u001b[?25l\u001b[?25hdone\n",
      "Requirement already satisfied: numba>=0.41.0 in /usr/local/lib/python3.8/dist-packages (from scanpy) (0.56.4)\n",
      "Requirement already satisfied: numpy>=1.17.0 in /usr/local/lib/python3.8/dist-packages (from scanpy) (1.21.6)\n",
      "Requirement already satisfied: joblib in /usr/local/lib/python3.8/dist-packages (from scanpy) (1.2.0)\n",
      "Requirement already satisfied: scipy>=1.4 in /usr/local/lib/python3.8/dist-packages (from scanpy) (1.7.3)\n",
      "Requirement already satisfied: h5py>=3 in /usr/local/lib/python3.8/dist-packages (from scanpy) (3.1.0)\n",
      "Requirement already satisfied: pandas>=1.0 in /usr/local/lib/python3.8/dist-packages (from scanpy) (1.3.5)\n",
      "Requirement already satisfied: natsort in /usr/local/lib/python3.8/dist-packages (from scanpy) (5.5.0)\n",
      "Requirement already satisfied: cycler>=0.10 in /usr/local/lib/python3.8/dist-packages (from matplotlib>=3.4->scanpy) (0.11.0)\n",
      "Requirement already satisfied: pillow>=6.2.0 in /usr/local/lib/python3.8/dist-packages (from matplotlib>=3.4->scanpy) (7.1.2)\n",
      "Collecting fonttools>=4.22.0\n",
      "  Downloading fonttools-4.38.0-py3-none-any.whl (965 kB)\n",
      "\u001b[2K     \u001b[90m━━━━━━━━━━━━━━━━━━━━━━━━━━━━━━━━━━━━━━\u001b[0m \u001b[32m965.4/965.4 KB\u001b[0m \u001b[31m53.0 MB/s\u001b[0m eta \u001b[36m0:00:00\u001b[0m\n",
      "\u001b[?25hRequirement already satisfied: python-dateutil>=2.7 in /usr/local/lib/python3.8/dist-packages (from matplotlib>=3.4->scanpy) (2.8.2)\n",
      "Requirement already satisfied: pyparsing>=2.2.1 in /usr/local/lib/python3.8/dist-packages (from matplotlib>=3.4->scanpy) (3.0.9)\n",
      "Collecting contourpy>=1.0.1\n",
      "  Downloading contourpy-1.0.7-cp38-cp38-manylinux_2_17_x86_64.manylinux2014_x86_64.whl (300 kB)\n",
      "\u001b[2K     \u001b[90m━━━━━━━━━━━━━━━━━━━━━━━━━━━━━━━━━━━━━━\u001b[0m \u001b[32m300.0/300.0 KB\u001b[0m \u001b[31m20.9 MB/s\u001b[0m eta \u001b[36m0:00:00\u001b[0m\n",
      "\u001b[?25hRequirement already satisfied: kiwisolver>=1.0.1 in /usr/local/lib/python3.8/dist-packages (from matplotlib>=3.4->scanpy) (1.4.4)\n",
      "Requirement already satisfied: importlib-metadata in /usr/local/lib/python3.8/dist-packages (from numba>=0.41.0->scanpy) (6.0.0)\n",
      "Requirement already satisfied: llvmlite<0.40,>=0.39.0dev0 in /usr/local/lib/python3.8/dist-packages (from numba>=0.41.0->scanpy) (0.39.1)\n",
      "Requirement already satisfied: setuptools in /usr/local/lib/python3.8/dist-packages (from numba>=0.41.0->scanpy) (57.4.0)\n",
      "Requirement already satisfied: pytz>=2017.3 in /usr/local/lib/python3.8/dist-packages (from pandas>=1.0->scanpy) (2022.7.1)\n",
      "Requirement already satisfied: threadpoolctl>=2.0.0 in /usr/local/lib/python3.8/dist-packages (from scikit-learn>=0.22->scanpy) (3.1.0)\n",
      "Requirement already satisfied: six in /usr/local/lib/python3.8/dist-packages (from patsy->scanpy) (1.15.0)\n",
      "Collecting pynndescent>=0.5\n",
      "  Downloading pynndescent-0.5.8.tar.gz (1.1 MB)\n",
      "\u001b[2K     \u001b[90m━━━━━━━━━━━━━━━━━━━━━━━━━━━━━━━━━━━━━━━━\u001b[0m \u001b[32m1.1/1.1 MB\u001b[0m \u001b[31m57.5 MB/s\u001b[0m eta \u001b[36m0:00:00\u001b[0m\n",
      "\u001b[?25h  Preparing metadata (setup.py) ... \u001b[?25l\u001b[?25hdone\n",
      "Collecting stdlib_list\n",
      "  Downloading stdlib_list-0.8.0-py3-none-any.whl (63 kB)\n",
      "\u001b[2K     \u001b[90m━━━━━━━━━━━━━━━━━━━━━━━━━━━━━━━━━━━━━━━━\u001b[0m \u001b[32m63.5/63.5 KB\u001b[0m \u001b[31m6.8 MB/s\u001b[0m eta \u001b[36m0:00:00\u001b[0m\n",
      "\u001b[?25hRequirement already satisfied: zipp>=0.5 in /usr/local/lib/python3.8/dist-packages (from importlib-metadata->numba>=0.41.0->scanpy) (3.12.0)\n",
      "Building wheels for collected packages: umap-learn, session-info, pynndescent\n",
      "  Building wheel for umap-learn (setup.py) ... \u001b[?25l\u001b[?25hdone\n",
      "  Created wheel for umap-learn: filename=umap_learn-0.5.3-py3-none-any.whl size=82829 sha256=60bdbb831f447ee9870d7bb2eaa6e85bdac431760e43f7743ed36b6b2674de7f\n",
      "  Stored in directory: /root/.cache/pip/wheels/a9/3a/67/06a8950e053725912e6a8c42c4a3a241410f6487b8402542ea\n",
      "  Building wheel for session-info (setup.py) ... \u001b[?25l\u001b[?25hdone\n",
      "  Created wheel for session-info: filename=session_info-1.0.0-py3-none-any.whl size=8046 sha256=a62304cc7ea9c0c63f008ca04e6b988c490bf5071e413ede3ff65a018880938d\n",
      "  Stored in directory: /root/.cache/pip/wheels/5c/1b/4d/111d73980c5c6a8e5e5905a19eccc34296cb359cac54c6c5b9\n",
      "  Building wheel for pynndescent (setup.py) ... \u001b[?25l\u001b[?25hdone\n",
      "  Created wheel for pynndescent: filename=pynndescent-0.5.8-py3-none-any.whl size=55513 sha256=b52754b1f688cd18731ee77a12e77e4e3bca2200c09c23153322eb88fdcc1aef\n",
      "  Stored in directory: /root/.cache/pip/wheels/1c/63/3a/29954bca1a27ba100ed8c27973a78cb71b43dc67aed62e80c3\n",
      "Successfully built umap-learn session-info pynndescent\n",
      "Installing collected packages: stdlib_list, session-info, fonttools, contourpy, matplotlib, pynndescent, anndata, umap-learn, scanpy\n",
      "  Attempting uninstall: matplotlib\n",
      "    Found existing installation: matplotlib 3.2.2\n",
      "    Uninstalling matplotlib-3.2.2:\n",
      "      Successfully uninstalled matplotlib-3.2.2\n",
      "Successfully installed anndata-0.8.0 contourpy-1.0.7 fonttools-4.38.0 matplotlib-3.6.3 pynndescent-0.5.8 scanpy-1.9.1 session-info-1.0.0 stdlib_list-0.8.0 umap-learn-0.5.3\n"
     ]
    },
    {
     "data": {
      "application/vnd.colab-display-data+json": {
       "pip_warning": {
        "packages": [
         "matplotlib",
         "mpl_toolkits"
        ]
       }
      }
     },
     "metadata": {},
     "output_type": "display_data"
    }
   ],
   "source": [
    "pip install scanpy"
   ]
  },
  {
   "cell_type": "code",
   "execution_count": 2,
   "metadata": {
    "colab": {
     "base_uri": "https://localhost:8080/"
    },
    "id": "l1Kwxejq-1bd",
    "outputId": "9fa7d79b-259b-4210-9d28-72eda24261e7"
   },
   "outputs": [
    {
     "name": "stdout",
     "output_type": "stream",
     "text": [
      "scanpy==1.9.1 anndata==0.8.0 umap==0.5.3 numpy==1.21.6 scipy==1.7.3 pandas==1.3.5 scikit-learn==1.0.2 statsmodels==0.12.2 pynndescent==0.5.8\n"
     ]
    }
   ],
   "source": [
    "import scanpy as sc\n",
    "\n",
    "from warnings import filterwarnings\n",
    "filterwarnings('ignore')\n",
    "\n",
    "sc.settings.verbosity = 3\n",
    "sc.logging.print_header()\n",
    "sc.settings.set_figure_params(dpi=80, facecolor='white')"
   ]
  },
  {
   "cell_type": "code",
   "execution_count": 3,
   "metadata": {
    "colab": {
     "base_uri": "https://localhost:8080/"
    },
    "id": "0cgY6Hae-3-J",
    "outputId": "f8f7aa8d-2d88-4f8d-da84-8e0c25692b10"
   },
   "outputs": [
    {
     "name": "stdout",
     "output_type": "stream",
     "text": [
      "Mounted at /content/drive\n"
     ]
    }
   ],
   "source": [
    "from google.colab import drive\n",
    "drive.mount('/content/drive')"
   ]
  },
  {
   "cell_type": "markdown",
   "metadata": {
    "id": "gs3VVwv5gzNR"
   },
   "source": [
    "For this to work it is necessary to load the data off the link, onto your computer and then up onto your google drive."
   ]
  },
  {
   "cell_type": "code",
   "execution_count": 4,
   "metadata": {
    "id": "Q5q1K7n4-8FF"
   },
   "outputs": [],
   "source": [
    "adata = sc.read_h5ad('/content/drive/MyDrive/sc_trainings.h5ad')"
   ]
  },
  {
   "cell_type": "code",
   "execution_count": 5,
   "metadata": {
    "colab": {
     "base_uri": "https://localhost:8080/"
    },
    "id": "2ohXj0avcTZy",
    "outputId": "9c4f0653-32b7-4313-eb48-63f1b10366a9"
   },
   "outputs": [
    {
     "name": "stdout",
     "output_type": "stream",
     "text": [
      "[('Unperturbed', 1044), ('Crem', 324), ('Dvl2', 251), ('Tox2', 247), ('Irf2', 188), ('Dvl1', 183), ('Zfp292', 174), ('Sp100', 165), ('Il12rb1', 161), ('Satb1', 131), ('Litaf', 128), ('Arid5b', 107), ('Nr4a3', 99), ('Zeb2', 99), ('Runx2', 98), ('Tcf7', 87), ('Hmgb1', 87), ('Hif1a', 80), ('Arid4b', 75), ('Ikzf3', 72), ('Egr1', 65), ('Nr4a2', 54), ('Fzd6', 52), ('Il12rb2', 38), ('Sox4', 37), ('Atf2', 35), ('Prdm1', 34), ('Nr3c1', 34), ('Foxp1', 32), ('Fzd3', 28), ('Lef1', 28), ('Rela', 27), ('Gsk3b', 26), ('Ldhb', 26), ('Sub1', 26), ('Elf1', 25), ('Nr4a1', 24), ('Id2', 24), ('Fzd1', 21), ('Hmgb2', 18), ('Irf9', 17), ('Foxo1', 17), ('Tox', 16), ('Oxnad1', 15), ('Tcf3', 15), ('Dvl3', 15), ('Lrp1', 12), ('Dkk3', 10), ('Stat4', 9), ('Ctnnb1', 9), ('Ezh2', 9), ('Myb', 7), ('P2rx7', 6), ('Eomes', 5), ('Yy1', 5), ('Tpt1', 4), ('Id3', 4), ('Sp140', 4), ('Rad21', 4), ('Foxm1', 4)]\n",
      "[('Unperturbed', 336), ('Nr4a3', 166), ('Nr4a2', 134), ('Prdm1', 115), ('Satb1', 97), ('Tox2', 75), ('Gsk3b', 70), ('Egr1', 64), ('Dvl2', 53), ('Nr4a1', 52), ('Irf2', 40), ('Zfp292', 39), ('Foxm1', 36), ('Arid4b', 36), ('Irf9', 36), ('Il12rb2', 34), ('Dvl3', 32), ('Id2', 32), ('Tcf7', 31), ('Ikzf3', 30), ('Il12rb1', 28), ('Lef1', 27), ('Fzd3', 27), ('Arid5b', 27), ('Hmgb1', 27), ('Fzd6', 27), ('Litaf', 26), ('Crem', 26), ('Fzd1', 26), ('Dvl1', 25), ('Oxnad1', 25), ('Ep300', 24), ('Ctnnb1', 23), ('Sox4', 23), ('Lrp1', 22), ('Hif1a', 22), ('Hmgb2', 22), ('Rela', 21), ('P2rx7', 20), ('Ldhb', 20), ('Nr3c1', 19), ('Elf1', 19), ('Id3', 18), ('Sp140', 17), ('Atf2', 17), ('Foxp1', 17), ('Yy1', 15), ('Zeb2', 15), ('Sub1', 15), ('Sp100', 14), ('Tcf3', 13), ('Myb', 13), ('Runx2', 12), ('Tpt1', 11), ('Runx3', 10), ('Foxo1', 9), ('Dkk3', 9), ('Stat4', 9), ('Eomes', 7), ('Tox', 7), ('Ezh2', 6), ('Klf2', 5), ('Rad21', 4), ('Batf', 4), ('Tbx21', 2), ('Rps6', 2), ('Eef2', 1)]\n",
      "[('Tox2', 2300), ('Unperturbed', 1952), ('Arid5b', 1234), ('Dvl2', 1194), ('Irf2', 522), ('Il12rb1', 388), ('Zeb2', 377), ('Hif1a', 347), ('Nr4a2', 279), ('Arid4b', 271), ('Ikzf3', 235), ('Crem', 235), ('Sp100', 224), ('Dvl1', 217), ('Nr3c1', 200), ('Nr4a3', 179), ('Sox4', 169), ('Satb1', 161), ('Runx2', 138), ('Prdm1', 136), ('Hmgb1', 129), ('Litaf', 119), ('Fzd1', 114), ('Tcf7', 82), ('Ldhb', 80), ('Gsk3b', 73), ('Zfp292', 66), ('Fzd6', 65), ('Il12rb2', 55), ('Nr4a1', 53), ('Foxp1', 51), ('Fzd3', 50), ('Sub1', 50), ('Egr1', 50), ('Atf2', 42), ('Tcf3', 40), ('Id2', 34), ('Foxo1', 32), ('Hmgb2', 31), ('Rela', 26), ('Lef1', 26), ('Dvl3', 21), ('Irf9', 19), ('Dkk3', 18), ('Elf1', 15), ('Id3', 14), ('P2rx7', 11), ('Oxnad1', 11), ('Lrp1', 10), ('Foxm1', 8), ('Sp140', 8), ('Tpt1', 7), ('Ezh2', 7), ('Stat4', 5), ('Tox', 5), ('Myb', 5), ('Ctnnb1', 5), ('Eomes', 3), ('Yy1', 3), ('Rad21', 1)]\n",
      "[('Eomes', 1), ('Rad21', 1), ('Batf', 1), ('Yy1', 2), ('Tpt1', 3), ('Ezh2', 4), ('Sp140', 4), ('P2rx7', 5), ('Stat4', 6), ('Myb', 6), ('Ctnnb1', 6), ('Foxm1', 8), ('Oxnad1', 8), ('Tox', 8), ('Id3', 10), ('Dkk3', 11), ('Elf1', 13), ('Rela', 13), ('Lef1', 18), ('Tcf3', 19), ('Dvl3', 22), ('Irf9', 23), ('Hmgb2', 24), ('Id2', 25), ('Lrp1', 27), ('Fzd3', 31), ('Zfp292', 31), ('Foxo1', 32), ('Sub1', 41), ('Atf2', 43), ('Foxp1', 50), ('Fzd6', 52), ('Egr1', 54), ('Nr4a1', 54), ('Il12rb2', 57), ('Gsk3b', 59), ('Ldhb', 67), ('Litaf', 86), ('Tcf7', 93), ('Fzd1', 93), ('Prdm1', 95), ('Sox4', 96), ('Runx2', 96), ('Satb1', 104), ('Nr3c1', 117), ('Hmgb1', 127), ('Nr4a3', 140), ('Dvl1', 159), ('Sp100', 161), ('Crem', 163), ('Nr4a2', 204), ('Ikzf3', 220), ('Hif1a', 231), ('Zeb2', 242), ('Arid4b', 247), ('Il12rb1', 272), ('Irf2', 385), ('Dvl2', 661), ('Arid5b', 992), ('Unperturbed', 1560), ('Tox2', 1594)]\n"
     ]
    }
   ],
   "source": [
    "a = []\n",
    "\n",
    "\n",
    "for i in range(len(adata.obs)):\n",
    "  if adata.obs.state[i] == 'effector':\n",
    "    a.append(i)\n",
    "b = []\n",
    "for i in a:\n",
    "  b.append(adata.obs.condition[i])\n",
    "\n",
    "from collections import Counter\n",
    "c = Counter(b)\n",
    "print(c.most_common(28697)) \n",
    "\n",
    "\n",
    "a = []\n",
    "for i in range(len(adata.obs)):\n",
    "  if adata.obs.state[i] == 'progenitor':\n",
    "    a.append(i)\n",
    "b = []\n",
    "for i in a:\n",
    "  b.append(adata.obs.condition[i])\n",
    "\n",
    "\n",
    "from collections import Counter\n",
    "c = Counter(b)\n",
    "print(c.most_common(28697)) \n",
    "\n",
    "\n",
    "\n",
    "a = []\n",
    "for i in range(len(adata.obs)):\n",
    "  if adata.obs.state[i] == 'cycling':\n",
    "    a.append(i)\n",
    "b = []\n",
    "for i in a:\n",
    "  b.append(adata.obs.condition[i])\n",
    "\n",
    "\n",
    "from collections import Counter\n",
    "c = Counter(b)\n",
    "print(c.most_common(28697)) \n",
    "\n",
    "a = []\n",
    "for i in range(len(adata.obs)):\n",
    "  if adata.obs.state[i] == 'terminal exhausted':\n",
    "    a.append(i)\n",
    "b = []\n",
    "for i in a:\n",
    "  b.append(adata.obs.condition[i])\n",
    "\n",
    "\n",
    "from collections import Counter\n",
    "c = Counter(b)\n",
    "d = c.most_common(28697)\n",
    "\n",
    "\n",
    "\n",
    "l = []  \n",
    "for i in d:\n",
    "    # reversing the list\n",
    "    l.insert(0, i)\n",
    "# printing result\n",
    "print(l)\n"
   ]
  },
  {
   "cell_type": "markdown",
   "metadata": {
    "id": "AMyh-dyUgX47"
   },
   "source": [
    "The data above shows the most commonly occuring genes that are associated with resulting in the ranked list of highest progenitor states after removal along with all of the other states as requested in parts 1 and 2 of challenge 2. We also want the lowest occuring results from the terminal effectors so the list is flipped to least common as demonstrated below:\n"
   ]
  },
  {
   "cell_type": "markdown",
   "metadata": {
    "id": "F3Zo3LkDfmQ7"
   },
   "source": [
    "The T cells that we want the most occurances of are effector, progenitor and cycling because these are not terminal which would mean they do not work. Other cells are assumed to not be clearly defined so they are disregarded. It is possible to code this but visually for simplicity the highest occuring top three genes across effector, cycling and progenitor are:\n",
    "Unperturbed,\n",
    "Tox2 and\n",
    "Dvl2. To minimisme the terminal cells, the top 3 pertubations were Eomes, Rad21 and Batf."
   ]
  },
  {
   "cell_type": "code",
   "execution_count": 6,
   "metadata": {
    "colab": {
     "base_uri": "https://localhost:8080/"
    },
    "id": "LW38p1zW_vA3",
    "outputId": "109e46ed-e8ca-4c3d-caba-ddfa9ce6f641"
   },
   "outputs": [
    {
     "name": "stdout",
     "output_type": "stream",
     "text": [
      "normalizing counts per cell\n",
      "    finished (0:00:01)\n",
      "computing PCA\n",
      "    with n_comps=50\n",
      "    finished (0:00:47)\n",
      "computing neighbors\n",
      "    using 'X_pca' with n_pcs = 50\n",
      "    finished: added to `.uns['neighbors']`\n",
      "    `.obsp['distances']`, distances for each pair of neighbors\n",
      "    `.obsp['connectivities']`, weighted adjacency matrix (0:00:43)\n",
      "computing UMAP\n",
      "    finished: added\n",
      "    'X_umap', UMAP coordinates (adata.obsm) (0:00:31)\n"
     ]
    }
   ],
   "source": [
    "adata.layers['normalized_logcounts'] = adata.X.copy()\n",
    "\n",
    "adata.X = adata.layers['rawcounts'].copy()\n",
    "\n",
    "sc.pp.normalize_total(adata, target_sum=5e3)\n",
    "sc.pp.log1p(adata)\n",
    "\n",
    "sc.tl.pca(adata, svd_solver='arpack')\n",
    "sc.pp.neighbors(adata, n_neighbors=30, n_pcs=50)\n",
    "sc.tl.umap(adata, min_dist=0.3) "
   ]
  },
  {
   "cell_type": "code",
   "execution_count": 7,
   "metadata": {
    "colab": {
     "base_uri": "https://localhost:8080/"
    },
    "id": "7C-sUC_Vz_jT",
    "outputId": "62001878-84d5-40bf-9d2e-dc7b070b06e7"
   },
   "outputs": [
    {
     "name": "stdout",
     "output_type": "stream",
     "text": [
      "Looking in indexes: https://pypi.org/simple, https://us-python.pkg.dev/colab-wheels/public/simple/\n",
      "Collecting matplotlib==3.1.3\n",
      "  Downloading matplotlib-3.1.3-cp38-cp38-manylinux1_x86_64.whl (13.1 MB)\n",
      "\u001b[2K     \u001b[90m━━━━━━━━━━━━━━━━━━━━━━━━━━━━━━━━━━━━━━━━\u001b[0m \u001b[32m13.1/13.1 MB\u001b[0m \u001b[31m67.2 MB/s\u001b[0m eta \u001b[36m0:00:00\u001b[0m\n",
      "\u001b[?25hRequirement already satisfied: kiwisolver>=1.0.1 in /usr/local/lib/python3.8/dist-packages (from matplotlib==3.1.3) (1.4.4)\n",
      "Requirement already satisfied: numpy>=1.11 in /usr/local/lib/python3.8/dist-packages (from matplotlib==3.1.3) (1.21.6)\n",
      "Requirement already satisfied: python-dateutil>=2.1 in /usr/local/lib/python3.8/dist-packages (from matplotlib==3.1.3) (2.8.2)\n",
      "Requirement already satisfied: cycler>=0.10 in /usr/local/lib/python3.8/dist-packages (from matplotlib==3.1.3) (0.11.0)\n",
      "Requirement already satisfied: pyparsing!=2.0.4,!=2.1.2,!=2.1.6,>=2.0.1 in /usr/local/lib/python3.8/dist-packages (from matplotlib==3.1.3) (3.0.9)\n",
      "Requirement already satisfied: six>=1.5 in /usr/local/lib/python3.8/dist-packages (from python-dateutil>=2.1->matplotlib==3.1.3) (1.15.0)\n",
      "Installing collected packages: matplotlib\n",
      "  Attempting uninstall: matplotlib\n",
      "    Found existing installation: matplotlib 3.6.3\n",
      "    Uninstalling matplotlib-3.6.3:\n",
      "      Successfully uninstalled matplotlib-3.6.3\n",
      "\u001b[31mERROR: pip's dependency resolver does not currently take into account all the packages that are installed. This behaviour is the source of the following dependency conflicts.\n",
      "scanpy 1.9.1 requires matplotlib>=3.4, but you have matplotlib 3.1.3 which is incompatible.\u001b[0m\u001b[31m\n",
      "\u001b[0mSuccessfully installed matplotlib-3.1.3\n"
     ]
    }
   ],
   "source": [
    "pip install matplotlib==3.1.3"
   ]
  },
  {
   "cell_type": "code",
   "execution_count": 8,
   "metadata": {
    "id": "VbLhn3SM_yFH"
   },
   "outputs": [],
   "source": [
    "features = adata.obsm['X_pca']\n",
    "labels = adata.obs.state\n",
    "\n",
    "#features = adata.varm['PCs']\n",
    "#labels = adata.var\n",
    "\n"
   ]
  },
  {
   "cell_type": "code",
   "execution_count": 9,
   "metadata": {
    "colab": {
     "base_uri": "https://localhost:8080/",
     "height": 423
    },
    "id": "CjnbzcUIc8MR",
    "outputId": "e2921e1d-75b0-4c65-ab36-66c39c9c7826"
   },
   "outputs": [
    {
     "data": {
      "text/html": [
       "\n",
       "  <div id=\"df-2bf4c2f9-d8ca-47d5-bdbe-6db39f5c02ea\">\n",
       "    <div class=\"colab-df-container\">\n",
       "      <div>\n",
       "<style scoped>\n",
       "    .dataframe tbody tr th:only-of-type {\n",
       "        vertical-align: middle;\n",
       "    }\n",
       "\n",
       "    .dataframe tbody tr th {\n",
       "        vertical-align: top;\n",
       "    }\n",
       "\n",
       "    .dataframe thead th {\n",
       "        text-align: right;\n",
       "    }\n",
       "</style>\n",
       "<table border=\"1\" class=\"dataframe\">\n",
       "  <thead>\n",
       "    <tr style=\"text-align: right;\">\n",
       "      <th></th>\n",
       "      <th>gRNA_maxID</th>\n",
       "      <th>state</th>\n",
       "      <th>condition</th>\n",
       "      <th>lane</th>\n",
       "    </tr>\n",
       "  </thead>\n",
       "  <tbody>\n",
       "    <tr>\n",
       "      <th>053l1_AAACCTGAGATGTCGG-1</th>\n",
       "      <td>ONE-NON-GENE-SITE-7</td>\n",
       "      <td>terminal exhausted</td>\n",
       "      <td>Unperturbed</td>\n",
       "      <td>lane1</td>\n",
       "    </tr>\n",
       "    <tr>\n",
       "      <th>053l1_AAACCTGAGCAACGGT-1</th>\n",
       "      <td>Tox2-3</td>\n",
       "      <td>effector</td>\n",
       "      <td>Tox2</td>\n",
       "      <td>lane1</td>\n",
       "    </tr>\n",
       "    <tr>\n",
       "      <th>053l1_AAACCTGAGTACGACG-1</th>\n",
       "      <td>Tpt1-2</td>\n",
       "      <td>effector</td>\n",
       "      <td>Tpt1</td>\n",
       "      <td>lane1</td>\n",
       "    </tr>\n",
       "    <tr>\n",
       "      <th>053l1_AAACCTGAGTCGTTTG-1</th>\n",
       "      <td>Tox2-3</td>\n",
       "      <td>terminal exhausted</td>\n",
       "      <td>Tox2</td>\n",
       "      <td>lane1</td>\n",
       "    </tr>\n",
       "    <tr>\n",
       "      <th>053l1_AAACCTGAGTGAAGAG-1</th>\n",
       "      <td>Tcf7-2</td>\n",
       "      <td>effector</td>\n",
       "      <td>Tcf7</td>\n",
       "      <td>lane1</td>\n",
       "    </tr>\n",
       "    <tr>\n",
       "      <th>...</th>\n",
       "      <td>...</td>\n",
       "      <td>...</td>\n",
       "      <td>...</td>\n",
       "      <td>...</td>\n",
       "    </tr>\n",
       "    <tr>\n",
       "      <th>053l4_TTTGTCATCAGGTTCA-1</th>\n",
       "      <td>Tox2-3</td>\n",
       "      <td>other</td>\n",
       "      <td>Tox2</td>\n",
       "      <td>lane4</td>\n",
       "    </tr>\n",
       "    <tr>\n",
       "      <th>053l4_TTTGTCATCAGTGTTG-1</th>\n",
       "      <td>Dvl2-3</td>\n",
       "      <td>cycling</td>\n",
       "      <td>Dvl2</td>\n",
       "      <td>lane4</td>\n",
       "    </tr>\n",
       "    <tr>\n",
       "      <th>053l4_TTTGTCATCCTCGCAT-1</th>\n",
       "      <td>Zeb2-2</td>\n",
       "      <td>cycling</td>\n",
       "      <td>Zeb2</td>\n",
       "      <td>lane4</td>\n",
       "    </tr>\n",
       "    <tr>\n",
       "      <th>053l4_TTTGTCATCTTCAACT-1</th>\n",
       "      <td>Sox4-3</td>\n",
       "      <td>cycling</td>\n",
       "      <td>Sox4</td>\n",
       "      <td>lane4</td>\n",
       "    </tr>\n",
       "    <tr>\n",
       "      <th>053l4_TTTGTCATCTTTCCTC-1</th>\n",
       "      <td>Dvl2-3</td>\n",
       "      <td>cycling</td>\n",
       "      <td>Dvl2</td>\n",
       "      <td>lane4</td>\n",
       "    </tr>\n",
       "  </tbody>\n",
       "</table>\n",
       "<p>28697 rows × 4 columns</p>\n",
       "</div>\n",
       "      <button class=\"colab-df-convert\" onclick=\"convertToInteractive('df-2bf4c2f9-d8ca-47d5-bdbe-6db39f5c02ea')\"\n",
       "              title=\"Convert this dataframe to an interactive table.\"\n",
       "              style=\"display:none;\">\n",
       "        \n",
       "  <svg xmlns=\"http://www.w3.org/2000/svg\" height=\"24px\"viewBox=\"0 0 24 24\"\n",
       "       width=\"24px\">\n",
       "    <path d=\"M0 0h24v24H0V0z\" fill=\"none\"/>\n",
       "    <path d=\"M18.56 5.44l.94 2.06.94-2.06 2.06-.94-2.06-.94-.94-2.06-.94 2.06-2.06.94zm-11 1L8.5 8.5l.94-2.06 2.06-.94-2.06-.94L8.5 2.5l-.94 2.06-2.06.94zm10 10l.94 2.06.94-2.06 2.06-.94-2.06-.94-.94-2.06-.94 2.06-2.06.94z\"/><path d=\"M17.41 7.96l-1.37-1.37c-.4-.4-.92-.59-1.43-.59-.52 0-1.04.2-1.43.59L10.3 9.45l-7.72 7.72c-.78.78-.78 2.05 0 2.83L4 21.41c.39.39.9.59 1.41.59.51 0 1.02-.2 1.41-.59l7.78-7.78 2.81-2.81c.8-.78.8-2.07 0-2.86zM5.41 20L4 18.59l7.72-7.72 1.47 1.35L5.41 20z\"/>\n",
       "  </svg>\n",
       "      </button>\n",
       "      \n",
       "  <style>\n",
       "    .colab-df-container {\n",
       "      display:flex;\n",
       "      flex-wrap:wrap;\n",
       "      gap: 12px;\n",
       "    }\n",
       "\n",
       "    .colab-df-convert {\n",
       "      background-color: #E8F0FE;\n",
       "      border: none;\n",
       "      border-radius: 50%;\n",
       "      cursor: pointer;\n",
       "      display: none;\n",
       "      fill: #1967D2;\n",
       "      height: 32px;\n",
       "      padding: 0 0 0 0;\n",
       "      width: 32px;\n",
       "    }\n",
       "\n",
       "    .colab-df-convert:hover {\n",
       "      background-color: #E2EBFA;\n",
       "      box-shadow: 0px 1px 2px rgba(60, 64, 67, 0.3), 0px 1px 3px 1px rgba(60, 64, 67, 0.15);\n",
       "      fill: #174EA6;\n",
       "    }\n",
       "\n",
       "    [theme=dark] .colab-df-convert {\n",
       "      background-color: #3B4455;\n",
       "      fill: #D2E3FC;\n",
       "    }\n",
       "\n",
       "    [theme=dark] .colab-df-convert:hover {\n",
       "      background-color: #434B5C;\n",
       "      box-shadow: 0px 1px 3px 1px rgba(0, 0, 0, 0.15);\n",
       "      filter: drop-shadow(0px 1px 2px rgba(0, 0, 0, 0.3));\n",
       "      fill: #FFFFFF;\n",
       "    }\n",
       "  </style>\n",
       "\n",
       "      <script>\n",
       "        const buttonEl =\n",
       "          document.querySelector('#df-2bf4c2f9-d8ca-47d5-bdbe-6db39f5c02ea button.colab-df-convert');\n",
       "        buttonEl.style.display =\n",
       "          google.colab.kernel.accessAllowed ? 'block' : 'none';\n",
       "\n",
       "        async function convertToInteractive(key) {\n",
       "          const element = document.querySelector('#df-2bf4c2f9-d8ca-47d5-bdbe-6db39f5c02ea');\n",
       "          const dataTable =\n",
       "            await google.colab.kernel.invokeFunction('convertToInteractive',\n",
       "                                                     [key], {});\n",
       "          if (!dataTable) return;\n",
       "\n",
       "          const docLinkHtml = 'Like what you see? Visit the ' +\n",
       "            '<a target=\"_blank\" href=https://colab.research.google.com/notebooks/data_table.ipynb>data table notebook</a>'\n",
       "            + ' to learn more about interactive tables.';\n",
       "          element.innerHTML = '';\n",
       "          dataTable['output_type'] = 'display_data';\n",
       "          await google.colab.output.renderOutput(dataTable, element);\n",
       "          const docLink = document.createElement('div');\n",
       "          docLink.innerHTML = docLinkHtml;\n",
       "          element.appendChild(docLink);\n",
       "        }\n",
       "      </script>\n",
       "    </div>\n",
       "  </div>\n",
       "  "
      ],
      "text/plain": [
       "                                   gRNA_maxID               state  \\\n",
       "053l1_AAACCTGAGATGTCGG-1  ONE-NON-GENE-SITE-7  terminal exhausted   \n",
       "053l1_AAACCTGAGCAACGGT-1               Tox2-3            effector   \n",
       "053l1_AAACCTGAGTACGACG-1               Tpt1-2            effector   \n",
       "053l1_AAACCTGAGTCGTTTG-1               Tox2-3  terminal exhausted   \n",
       "053l1_AAACCTGAGTGAAGAG-1               Tcf7-2            effector   \n",
       "...                                       ...                 ...   \n",
       "053l4_TTTGTCATCAGGTTCA-1               Tox2-3               other   \n",
       "053l4_TTTGTCATCAGTGTTG-1               Dvl2-3             cycling   \n",
       "053l4_TTTGTCATCCTCGCAT-1               Zeb2-2             cycling   \n",
       "053l4_TTTGTCATCTTCAACT-1               Sox4-3             cycling   \n",
       "053l4_TTTGTCATCTTTCCTC-1               Dvl2-3             cycling   \n",
       "\n",
       "                            condition   lane  \n",
       "053l1_AAACCTGAGATGTCGG-1  Unperturbed  lane1  \n",
       "053l1_AAACCTGAGCAACGGT-1         Tox2  lane1  \n",
       "053l1_AAACCTGAGTACGACG-1         Tpt1  lane1  \n",
       "053l1_AAACCTGAGTCGTTTG-1         Tox2  lane1  \n",
       "053l1_AAACCTGAGTGAAGAG-1         Tcf7  lane1  \n",
       "...                               ...    ...  \n",
       "053l4_TTTGTCATCAGGTTCA-1         Tox2  lane4  \n",
       "053l4_TTTGTCATCAGTGTTG-1         Dvl2  lane4  \n",
       "053l4_TTTGTCATCCTCGCAT-1         Zeb2  lane4  \n",
       "053l4_TTTGTCATCTTCAACT-1         Sox4  lane4  \n",
       "053l4_TTTGTCATCTTTCCTC-1         Dvl2  lane4  \n",
       "\n",
       "[28697 rows x 4 columns]"
      ]
     },
     "execution_count": 9,
     "metadata": {},
     "output_type": "execute_result"
    }
   ],
   "source": [
    "adata.obs"
   ]
  },
  {
   "cell_type": "markdown",
   "metadata": {
    "id": "-5tvrGe_hYEu"
   },
   "source": [
    "To train the machine learning algorithm the values for the pca of the features are used as they represent the set in a simplified manner which is linearly independent so the rest of the set could be constructed with the derived vector components. The labels are the state so effector, progenitor etc and are used to determine what the cell is classed as. "
   ]
  },
  {
   "cell_type": "code",
   "execution_count": 10,
   "metadata": {
    "id": "oESfHhWSM4Tc"
   },
   "outputs": [],
   "source": [
    "from sklearn.model_selection import train_test_split\n",
    "from sklearn.model_selection import cross_val_score\n",
    "from sklearn.svm import SVC\n",
    "import numpy as np\n",
    "\n",
    "\n",
    "Xtr, Ytr, Xte, Yte = train_test_split(features,labels,test_size=0.25)\n"
   ]
  },
  {
   "cell_type": "markdown",
   "metadata": {
    "id": "JCgXE5gehp5h"
   },
   "source": [
    "To carry out supervised machine learning, the data that is known is split into testing and validation so it is possible to easily determine the accuracy of the model provided. 75% is in X for training and 25% for validation."
   ]
  },
  {
   "cell_type": "code",
   "execution_count": 11,
   "metadata": {
    "colab": {
     "base_uri": "https://localhost:8080/"
    },
    "id": "hz8N1lJ9PKsJ",
    "outputId": "af34bb64-bd97-4d6c-f192-dfbe5605f646"
   },
   "outputs": [
    {
     "data": {
      "text/plain": [
       "SVC()"
      ]
     },
     "execution_count": 11,
     "metadata": {},
     "output_type": "execute_result"
    }
   ],
   "source": [
    "from sklearn import svm, datasets\n",
    "import sklearn.model_selection as model_selection\n",
    "from sklearn.metrics import accuracy_score\n",
    "from sklearn.metrics import f1_score\n",
    "nonlinear_clf = svm.SVC(kernel='rbf', C=1.0)\n",
    "nonlinear_clf.fit(Xtr, Xte)"
   ]
  },
  {
   "cell_type": "markdown",
   "metadata": {
    "id": "9PRNpdHqF6BZ"
   },
   "source": [
    "The code is fitted to an SVM machine with a rbf kernel."
   ]
  },
  {
   "cell_type": "code",
   "execution_count": 12,
   "metadata": {
    "colab": {
     "base_uri": "https://localhost:8080/"
    },
    "id": "zb8_Kn-SF3-j",
    "outputId": "f822a377-b86d-41de-ca1d-adc3e8372ac8"
   },
   "outputs": [
    {
     "data": {
      "text/plain": [
       "0.9882445869342998"
      ]
     },
     "execution_count": 12,
     "metadata": {},
     "output_type": "execute_result"
    }
   ],
   "source": [
    "nonlinear_clf.score(Xtr, Xte)"
   ]
  },
  {
   "cell_type": "code",
   "execution_count": 13,
   "metadata": {
    "colab": {
     "base_uri": "https://localhost:8080/"
    },
    "id": "HkeYwDxrSlPX",
    "outputId": "f5db4dab-7835-45d5-f441-04053cb8dffc"
   },
   "outputs": [
    {
     "name": "stdout",
     "output_type": "stream",
     "text": [
      "Cross-validation scores non-linear SVM machine: [0.96093965 0.96762263 0.96620829 0.96439979 0.96629956]\n"
     ]
    }
   ],
   "source": [
    "scores1 = cross_val_score(nonlinear_clf, Xtr, Xte, cv=5, scoring='f1_macro')\n",
    "print(\"Cross-validation scores non-linear SVM machine:\", scores1)"
   ]
  },
  {
   "cell_type": "markdown",
   "metadata": {
    "id": "8rxRj8iIh3Hb"
   },
   "source": [
    "As you can see, the accuracy is expected to be rather high - Above 96%. When the unknown data is estimated, this is level of quality that is to be observed. "
   ]
  },
  {
   "cell_type": "code",
   "execution_count": 14,
   "metadata": {
    "id": "sj25RmxCT0h6"
   },
   "outputs": [],
   "source": [
    "pred2 = nonlinear_clf.predict(Ytr)\n",
    "acc = accuracy_score(Yte,pred2)"
   ]
  },
  {
   "cell_type": "code",
   "execution_count": 15,
   "metadata": {
    "colab": {
     "base_uri": "https://localhost:8080/"
    },
    "id": "7QIXGYcOdq-L",
    "outputId": "c72ada2e-8865-4f54-dfdd-c0e961e1f200"
   },
   "outputs": [
    {
     "name": "stdout",
     "output_type": "stream",
     "text": [
      "0.9772822299651568\n"
     ]
    }
   ],
   "source": [
    "print(acc)"
   ]
  },
  {
   "cell_type": "code",
   "execution_count": 16,
   "metadata": {
    "colab": {
     "base_uri": "https://localhost:8080/"
    },
    "id": "DhiWQ66wUtXP",
    "outputId": "e7f31c3e-a264-49db-af6f-7a84eaff7736"
   },
   "outputs": [
    {
     "name": "stdout",
     "output_type": "stream",
     "text": [
      "                    precision    recall  f1-score   support\n",
      "\n",
      "           cycling       0.99      0.99      0.99      3079\n",
      "          effector       0.96      0.97      0.96      1131\n",
      "             other       0.98      0.93      0.95       151\n",
      "        progenitor       1.00      0.97      0.98       574\n",
      "terminal exhausted       0.97      0.97      0.97      2240\n",
      "\n",
      "          accuracy                           0.98      7175\n",
      "         macro avg       0.98      0.96      0.97      7175\n",
      "      weighted avg       0.98      0.98      0.98      7175\n",
      "\n"
     ]
    }
   ],
   "source": [
    "from sklearn.metrics import classification_report    \n",
    "print(classification_report(Yte, pred2))"
   ]
  },
  {
   "cell_type": "markdown",
   "metadata": {
    "id": "0v-zruPViC-Z"
   },
   "source": [
    "Take note that I am using the predict function with known data to start with. "
   ]
  },
  {
   "cell_type": "markdown",
   "metadata": {
    "id": "gesKWeK2iOYf"
   },
   "source": [
    "The accuracy should be above 96% on the unseen data. "
   ]
  },
  {
   "cell_type": "code",
   "execution_count": 17,
   "metadata": {
    "colab": {
     "base_uri": "https://localhost:8080/"
    },
    "id": "NR9Htoz46tNB",
    "outputId": "8153ef41-1970-4803-ca3c-2740c2830683"
   },
   "outputs": [
    {
     "name": "stdout",
     "output_type": "stream",
     "text": [
      "reading /content/drive/MyDrive/scRNA_ATAC.h5\n",
      " (0:00:08)\n"
     ]
    }
   ],
   "source": [
    "data_cov1 = sc.read_10x_h5('/content/drive/MyDrive/scRNA_ATAC.h5')\n",
    "\n"
   ]
  },
  {
   "cell_type": "markdown",
   "metadata": {
    "id": "AcQaYF9iiUjO"
   },
   "source": [
    "Now it is time to observe the unseen data. "
   ]
  },
  {
   "cell_type": "markdown",
   "metadata": {
    "id": "tc3Xqx-nigsL"
   },
   "source": [
    "Here I investigate what the different variables for the new set are. "
   ]
  },
  {
   "cell_type": "markdown",
   "metadata": {
    "id": "h3LQJTx5jCrv"
   },
   "source": [
    "The way to access the gene that is being looked for is to look at the feature_types tag which holds all of the genes in question including the genes that could not be observed in the original dataset."
   ]
  },
  {
   "cell_type": "code",
   "execution_count": 19,
   "metadata": {
    "colab": {
     "base_uri": "https://localhost:8080/"
    },
    "id": "cfCqJXy78kgA",
    "outputId": "e17fa0a5-a43d-4bde-b6a1-400d34425114"
   },
   "outputs": [
    {
     "name": "stdout",
     "output_type": "stream",
     "text": [
      "normalizing counts per cell\n",
      "    finished (0:00:00)\n",
      "computing PCA\n",
      "    with n_comps=50\n",
      "    finished (0:00:22)\n",
      "computing neighbors\n",
      "    using 'X_pca' with n_pcs = 50\n",
      "    finished: added to `.uns['neighbors']`\n",
      "    `.obsp['distances']`, distances for each pair of neighbors\n",
      "    `.obsp['connectivities']`, weighted adjacency matrix (0:00:02)\n",
      "computing UMAP\n",
      "    finished: added\n",
      "    'X_umap', UMAP coordinates (adata.obsm) (0:00:11)\n"
     ]
    }
   ],
   "source": [
    "data_cov1.layers['normalized_logcounts'] = data_cov1.X.copy()\n",
    "\n",
    "##data_cov1.X = data_cov1.layers['rawcounts'].copy()\n",
    "\n",
    "sc.pp.normalize_total(data_cov1, target_sum=5e3)\n",
    "sc.pp.log1p(data_cov1)\n",
    "\n",
    "sc.tl.pca(data_cov1, svd_solver='arpack')\n",
    "sc.pp.neighbors(data_cov1, n_neighbors=30, n_pcs=50)\n",
    "sc.tl.umap(data_cov1, min_dist=0.3) "
   ]
  },
  {
   "cell_type": "code",
   "execution_count": 20,
   "metadata": {
    "colab": {
     "base_uri": "https://localhost:8080/",
     "height": 439
    },
    "id": "tCWNg27ZdHSN",
    "outputId": "1eb52c1a-8c8c-4adc-c578-2245396a2b2a"
   },
   "outputs": [
    {
     "data": {
      "text/plain": [
       "<matplotlib.collections.PathCollection at 0x7f87f7197d00>"
      ]
     },
     "execution_count": 20,
     "metadata": {},
     "output_type": "execute_result"
    },
    {
     "data": {
      "image/png": "[encoded data removed]",
      "text/plain": [
       "<Figure size 640x480 with 1 Axes>"
      ]
     },
     "metadata": {
      "image/png": {
       "height": 405,
       "width": 555
      }
     },
     "output_type": "display_data"
    }
   ],
   "source": [
    "from sklearn.cluster import KMeans\n",
    "import matplotlib.pyplot as plt\n",
    "\n",
    "# Scaling the data to normalize\n",
    "feat = data_cov1.obsm['X_pca']\n",
    "model = KMeans(n_clusters=5).fit(feat)\n",
    "\n",
    "# Visualize it:\n",
    "plt.figure(figsize=(8, 6))\n",
    "plt.scatter(feat[:,0], feat[:,1], c=model.labels_.astype(float))\n"
   ]
  },
  {
   "cell_type": "markdown",
   "metadata": {
    "id": "kt3LvMeejT1p"
   },
   "source": [
    "A summarised form of the data is provided with pca to be used for comparison with the original model in an unseen prediction. "
   ]
  },
  {
   "cell_type": "code",
   "execution_count": 49,
   "metadata": {
    "colab": {
     "base_uri": "https://localhost:8080/"
    },
    "id": "d08tXeqtzedL",
    "outputId": "f27773f1-e3ac-46fb-fe17-eeb0f2cab1ee"
   },
   "outputs": [
    {
     "name": "stdout",
     "output_type": "stream",
     "text": [
      "(32285,)\n"
     ]
    }
   ],
   "source": [
    "data_cov1.var_names\n",
    "data_cov1.var\n",
    "feat = data_cov1.varm['PCs']\n",
    "#labels = pred2\n",
    "\n",
    "pred4 = nonlinear_clf.predict(feat)\n",
    "print(pred4.shape)\n",
    "\n",
    "genelist = data_cov1.var.index\n",
    "\n",
    "genee = adata.var\n"
   ]
  },
  {
   "cell_type": "markdown",
   "metadata": {
    "id": "p66aF852u-UU"
   },
   "source": [
    "pred4 contains the prediction of the unseen data using the training model."
   ]
  },
  {
   "cell_type": "code",
   "execution_count": 22,
   "metadata": {
    "colab": {
     "base_uri": "https://localhost:8080/"
    },
    "id": "LfMjtMpTzk3b",
    "outputId": "104c874e-4762-407b-d17d-133ef79adf0e"
   },
   "outputs": [
    {
     "name": "stdout",
     "output_type": "stream",
     "text": [
      "[3162, 5881, 10551, 15610, 11490, 9124, 20239]\n"
     ]
    }
   ],
   "source": [
    "GeneIndexes7 = []\n",
    "for i in range(len(genelist)):\n",
    "  if genelist[i] == 'Aqr':\n",
    "    GeneIndexes7.append(i)\n",
    "\n",
    "for i in range(len(genelist)):\n",
    "  if genelist[i] == 'Bach2':\n",
    "    GeneIndexes7.append(i)\n",
    "\n",
    "for i in range(len(genelist)):\n",
    "  if genelist[i] == 'Bhlhe40':\n",
    "    GeneIndexes7.append(i)\n",
    "\n",
    "for i in range(len(genelist)):\n",
    "  if genelist[i] == 'Ets1':\n",
    "    GeneIndexes7.append(i)\n",
    "\n",
    "for i in range(len(genelist)):\n",
    "  if genelist[i] == 'Fosb':\n",
    "    GeneIndexes7.append(i)\n",
    "\n",
    "for i in range(len(genelist)):\n",
    "  if genelist[i] == 'Mafk':\n",
    "    GeneIndexes7.append(i)\n",
    "\n",
    "for i in range(len(genelist)):\n",
    "  if genelist[i] == 'Stat3':\n",
    "    GeneIndexes7.append(i)\n",
    "\n",
    "print(GeneIndexes7)"
   ]
  },
  {
   "cell_type": "code",
   "execution_count": 51,
   "metadata": {
    "id": "UDFZhHVI19Ho"
   },
   "outputs": [],
   "source": [
    "for i in range(len(genelist)):\n",
    "  if genelist[i] == 'Tox2':\n",
    "    genie = genelist[i]\n",
    "#the code above will take a gene from the known 15 077.    \n",
    "Aqr = data_cov1[:,GeneIndexes7[0]]\n",
    "Bach2 = data_cov1[:,GeneIndexes7[1]]\n",
    "Bhlhe40 = data_cov1[:,GeneIndexes7[2]]\n",
    "Es1 = data_cov1[:,GeneIndexes7[3]]\n",
    "Fosb = data_cov1[:,GeneIndexes7[4]]\n",
    "Mafk = data_cov1[:,GeneIndexes7[5]]\n",
    "Stat3 = data_cov1[:,GeneIndexes7[6]]\n",
    "#Below is for the proposed function in Challenge 2, part 3.\n",
    "Gen = data_cov1[:,genie]\n"
   ]
  },
  {
   "cell_type": "code",
   "execution_count": 27,
   "metadata": {
    "id": "rdzmqUSH7mU7"
   },
   "outputs": [],
   "source": [
    "A = Aqr.obsm['X_pca']\n",
    "B = Bach2.obsm['X_pca']\n",
    "C = Bhlhe40.obsm['X_pca']\n",
    "D = Es1.obsm['X_pca']\n",
    "E = Fosb.obsm['X_pca']\n",
    "F = Mafk.obsm['X_pca']\n",
    "G = Stat3.obsm['X_pca']\n",
    "#the code below would be used in a function for finding a given gene state balance out of the given 15 077\n",
    "H = Gen.obsm['X_pca']"
   ]
  },
  {
   "cell_type": "code",
   "execution_count": 28,
   "metadata": {
    "id": "q1Se-CV52r-q"
   },
   "outputs": [],
   "source": [
    "a = nonlinear_clf.predict(A)\n",
    "b = nonlinear_clf.predict(B)\n",
    "c = nonlinear_clf.predict(C)\n",
    "d = nonlinear_clf.predict(D)\n",
    "e = nonlinear_clf.predict(E)\n",
    "f = nonlinear_clf.predict(F)\n",
    "g = nonlinear_clf.predict(G)\n",
    "#Function\n",
    "h = nonlinear_clf.predict(H)\n",
    "\n"
   ]
  },
  {
   "cell_type": "code",
   "execution_count": 33,
   "metadata": {
    "id": "FUXOA_1lk_CO"
   },
   "outputs": [],
   "source": [
    "genelist = adata.var\n",
    "eh = []\n",
    "for i in range(5):\n",
    "  row = adata[:,genelist.index[i]]\n",
    "  o = nonlinear_clf.predict(row.obsm['X_pca'])\n",
    "  eh.append(o)\n"
   ]
  },
  {
   "cell_type": "code",
   "execution_count": 42,
   "metadata": {
    "colab": {
     "base_uri": "https://localhost:8080/"
    },
    "id": "eYk-pxOkyIdc",
    "outputId": "b98fa683-e709-4b8f-ed83-cc0ff1265aa5"
   },
   "outputs": [
    {
     "data": {
      "text/plain": [
       "array(['terminal exhausted', 'effector', 'effector', ..., 'cycling',\n",
       "       'cycling', 'cycling'], dtype=object)"
      ]
     },
     "execution_count": 42,
     "metadata": {},
     "output_type": "execute_result"
    }
   ],
   "source": [
    "eh[0]"
   ]
  },
  {
   "cell_type": "markdown",
   "metadata": {
    "id": "L0mWWvEewXGk"
   },
   "source": [
    "I have run out of time to output all 15 077 genes however the first 5 are observed to demonstrate that the code works. It would take about 4 hours to run everything."
   ]
  },
  {
   "cell_type": "markdown",
   "metadata": {
    "id": "31Ein0jJlQDS"
   },
   "source": []
  },
  {
   "cell_type": "code",
   "execution_count": 54,
   "metadata": {
    "colab": {
     "base_uri": "https://localhost:8080/"
    },
    "id": "yubxd34qikqy",
    "outputId": "40f6023e-12c4-433f-ba4b-d77029e54fa5"
   },
   "outputs": [
    {
     "name": "stdout",
     "output_type": "stream",
     "text": [
      "[0.07889326410426177, 0.16099243823396173, 0.427954141547897, 0.3126459211764296, 0.019514234937449908]\n",
      "0.9999999999999999\n",
      "[0.07889326410426177, 0.16099243823396173, 0.427954141547897, 0.3126459211764296, 0.019514234937449908]\n",
      "0.9999999999999999\n"
     ]
    }
   ],
   "source": [
    "\n",
    "  key1 = 0\n",
    "  key2 = 0\n",
    "  key3 = 0\n",
    "  key4 = 0\n",
    "  key5 = 0\n",
    "  for i in eh[0]:\n",
    "    if i == 'progenitor':\n",
    "       key1 = key1 + 1\n",
    "    if i == 'effector':\n",
    "       key2 = key2 + 1\n",
    "    if i == 'cycling':\n",
    "       key3 = key3 + 1\n",
    "    if i == 'terminal exhausted':\n",
    "       key4 = key4 + 1\n",
    "    if i == 'other':\n",
    "       key5 = key5 + 1\n",
    "\n",
    "sum = key1 + key2 + key3 + key4 + key5\n",
    "proportion = [(key1/sum), key2/sum, key3/sum, key4/sum, key5/sum]\n",
    "print(proportion)\n",
    "\n",
    "yeet1 = (key1/sum)+ key2/sum+ key3/sum+ key4/sum+ key5/sum\n",
    "\n",
    "print(yeet1)\n",
    "\n",
    "\n",
    "  key1 = 0\n",
    "  key2 = 0\n",
    "  key3 = 0\n",
    "  key4 = 0\n",
    "  key5 = 0\n",
    "  for i in eh[1]:\n",
    "    if i == 'progenitor':\n",
    "       key1 = key1 + 1\n",
    "    if i == 'effector':\n",
    "       key2 = key2 + 1\n",
    "    if i == 'cycling':\n",
    "       key3 = key3 + 1\n",
    "    if i == 'terminal exhausted':\n",
    "       key4 = key4 + 1\n",
    "    if i == 'other':\n",
    "       key5 = key5 + 1\n",
    "\n",
    "sum = key1 + key2 + key3 + key4 + key5\n",
    "proportion = [(key1/sum), key2/sum, key3/sum, key4/sum, key5/sum]\n",
    "print(proportion)\n",
    "\n",
    "yeet1 = (key1/sum)+ key2/sum+ key3/sum+ key4/sum+ key5/sum\n",
    "\n",
    "print(yeet1)\n",
    "\n"
   ]
  },
  {
   "cell_type": "markdown",
   "metadata": {
    "id": "sOYxIlkUyd7T"
   },
   "source": [
    "As demonstrated above, the code for all of the 15 077 cells is the same with the balance."
   ]
  },
  {
   "cell_type": "code",
   "execution_count": 55,
   "metadata": {
    "colab": {
     "base_uri": "https://localhost:8080/"
    },
    "id": "fq6NVy5acD52",
    "outputId": "dbaf3dd5-4a6f-4c7a-d6e8-717cef55a9e8"
   },
   "outputs": [
    {
     "name": "stdout",
     "output_type": "stream",
     "text": [
      "[0.2261266094420601, 0.07081545064377683, 0.6885729613733905, 0.0, 0.014484978540772532]\n",
      "1.0\n",
      "[0.2261266094420601, 0.07081545064377683, 0.6885729613733905, 0.0, 0.014484978540772532]\n",
      "1.0\n"
     ]
    }
   ],
   "source": [
    "\n",
    "key1 = 0\n",
    "key2 = 0\n",
    "key3 = 0\n",
    "key4 = 0\n",
    "key5 = 0\n",
    "for i in a:\n",
    "  if i == 'effector':\n",
    "    key1 = key1 + 1\n",
    "  if i == 'progenitor':\n",
    "    key2 = key2 + 1\n",
    "  if i == 'cycling':\n",
    "    key3 = key3 + 1\n",
    "  if i == 'terminal effector':\n",
    "    key4 = key4 + 1\n",
    "  if i == 'other':\n",
    "    key5 = key5 + 1\n",
    "\n",
    "sum = key1 + key2 + key3 + key4 + key5\n",
    "proportion = [(key1/sum), key2/sum, key3/sum, key4/sum, key5/sum]\n",
    "print(proportion)\n",
    "\n",
    "yeet = (key1/sum)+ key2/sum+ key3/sum+ key4/sum+ key5/sum\n",
    "\n",
    "print(yeet)\n",
    "\n",
    "\n",
    "key1 = 0\n",
    "key2 = 0\n",
    "key3 = 0\n",
    "key4 = 0\n",
    "key5 = 0\n",
    "for i in b:\n",
    "  if i == 'effector':\n",
    "    key1 = key1 + 1\n",
    "  if i == 'progenitor':\n",
    "    key2 = key2 + 1\n",
    "  if i == 'cycling':\n",
    "    key3 = key3 + 1\n",
    "  if i == 'terminal effector':\n",
    "    key4 = key4 + 1\n",
    "  if i == 'other':\n",
    "    key5 = key5 + 1\n",
    "\n",
    "sum = key1 + key2 + key3 + key4 + key5\n",
    "proportion = [(key1/sum), key2/sum, key3/sum, key4/sum, key5/sum]\n",
    "print(proportion)\n",
    "\n",
    "yeet = (key1/sum)+ key2/sum+ key3/sum+ key4/sum+ key5/sum\n",
    "\n",
    "print(yeet)"
   ]
  },
  {
   "cell_type": "markdown",
   "metadata": {
    "id": "FD-lFCV5jd8D"
   },
   "source": [
    "All of the unknown cells have been predicted using the PCA data. Now it is required to count all five categories for each of the 7 unidentified genes. "
   ]
  },
  {
   "cell_type": "markdown",
   "metadata": {
    "id": "0oInM5qHga-Q"
   },
   "source": [
    "I do not have the labels of the conditions and states for this data so it is assumed that it would be predicted with about 95% accuracy as predicted from the supervised prediction. "
   ]
  },
  {
   "cell_type": "markdown",
   "metadata": {
    "id": "gTrJvOitjtmp"
   },
   "source": [
    "Overall, the distribution follows for all of the genes which would include the unknown 7 that were listed which satisfies checkpoint 2."
   ]
  },
  {
   "cell_type": "code",
   "execution_count": 61,
   "metadata": {
    "colab": {
     "base_uri": "https://localhost:8080/"
    },
    "id": "ItnU7K43asIx",
    "outputId": "ac47415f-2ff4-4279-9458-10af653a422c"
   },
   "outputs": [
    {
     "name": "stdout",
     "output_type": "stream",
     "text": [
      "67\n"
     ]
    }
   ],
   "source": [
    "a = adata.obs.condition\n",
    "seen = set()\n",
    "uniq = []\n",
    "for x in a:\n",
    "    if x not in seen:\n",
    "        uniq.append(x)\n",
    "        seen.add(x)\n",
    "\n",
    "print(len(seen))"
   ]
  },
  {
   "cell_type": "markdown",
   "metadata": {
    "id": "0ea964Ucjkuv"
   },
   "source": [
    "For the set of unknowns each gene only occurs once with its own balance of cells. This backs up that the distribution of states for the unknown cells is the same across all the genes in the set which include the 7 genes that are not known."
   ]
  },
  {
   "cell_type": "markdown",
   "metadata": {
    "id": "qVARWuSOkPix"
   },
   "source": [
    "Bear in mind that the accuracy for the unknown pertubations as predicted by the known pertubations was calculated to be approximately 96+%. (See previous tables with set of accuracies). This would be the metric used to assess the accuracy of a pertubation prediction. The occurance of certain pertubations for each state is ranked also for further reference using each gene supplied from the set. The accuraacy score in and of itself can be used to determine the quality of a given prediction. To score the highest effectivity of pertubations go to the ordered list and run the code on the top genes in order to get the balance of state proportions. "
   ]
  }
 ],
 "metadata": {
  "colab": {
   "provenance": []
  },
  "kernelspec": {
   "display_name": "Python 3 (ipykernel)",
   "language": "python",
   "name": "python3"
  },
  "language_info": {
   "codemirror_mode": {
    "name": "ipython",
    "version": 3
   },
   "file_extension": ".py",
   "mimetype": "text/x-python",
   "name": "python",
   "nbconvert_exporter": "python",
   "pygments_lexer": "ipython3",
   "version": "3.9.15"
  }
 },
 "nbformat": 4,
 "nbformat_minor": 1
}
