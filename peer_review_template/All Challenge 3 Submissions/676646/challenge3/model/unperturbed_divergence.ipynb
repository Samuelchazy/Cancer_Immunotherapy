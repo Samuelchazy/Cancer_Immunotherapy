{
 "cells": [
  {
   "cell_type": "code",
   "execution_count": 1,
   "id": "ba20d8c1-f53c-475c-98fc-4e8e1e02f8b5",
   "metadata": {},
   "outputs": [
    {
     "name": "stderr",
     "output_type": "stream",
     "text": [
      "WARNING (pytensor.tensor.blas): Using NumPy C-API based implementation for BLAS functions.\n"
     ]
    }
   ],
   "source": [
    "import pymc as pm\n",
    "import pandas as pd\n",
    "import numpy as np\n",
    "import numpy.random as npr\n",
    "import matplotlib.pyplot as plt\n",
    "import arviz as az"
   ]
  },
  {
   "cell_type": "code",
   "execution_count": 2,
   "id": "af5c9b95-1a0e-4ee8-9af5-d698ecd6c8d5",
   "metadata": {},
   "outputs": [],
   "source": [
    "data_dir = '.'\n",
    "cts = pd.read_csv(f'{data_dir}/cells_per_ko.csv', index_col=0).iloc[:,7:12]"
   ]
  },
  {
   "cell_type": "markdown",
   "id": "c8c8b80e-ed59-4895-ba2d-053425f11afe",
   "metadata": {},
   "source": [
    "## Dirichlet - multinomial\n",
    "\n",
    "Taking into account the different number of cells per sample."
   ]
  },
  {
   "cell_type": "code",
   "execution_count": 44,
   "id": "6942e9f1-af2d-46b7-ae2e-f8c82d32e783",
   "metadata": {},
   "outputs": [
    {
     "data": {
      "text/html": [
       "<div>\n",
       "<style scoped>\n",
       "    .dataframe tbody tr th:only-of-type {\n",
       "        vertical-align: middle;\n",
       "    }\n",
       "\n",
       "    .dataframe tbody tr th {\n",
       "        vertical-align: top;\n",
       "    }\n",
       "\n",
       "    .dataframe thead th {\n",
       "        text-align: right;\n",
       "    }\n",
       "</style>\n",
       "<table border=\"1\" class=\"dataframe\">\n",
       "  <thead>\n",
       "    <tr style=\"text-align: right;\">\n",
       "      <th></th>\n",
       "      <th>cycling</th>\n",
       "      <th>effector</th>\n",
       "      <th>other</th>\n",
       "      <th>progenitor</th>\n",
       "      <th>terminal exhausted</th>\n",
       "    </tr>\n",
       "    <tr>\n",
       "      <th>condition</th>\n",
       "      <th></th>\n",
       "      <th></th>\n",
       "      <th></th>\n",
       "      <th></th>\n",
       "      <th></th>\n",
       "    </tr>\n",
       "  </thead>\n",
       "  <tbody>\n",
       "    <tr>\n",
       "      <th>Tox2</th>\n",
       "      <td>2300.0</td>\n",
       "      <td>247.0</td>\n",
       "      <td>117.0</td>\n",
       "      <td>75.0</td>\n",
       "      <td>1594.0</td>\n",
       "    </tr>\n",
       "    <tr>\n",
       "      <th>Arid5b</th>\n",
       "      <td>1234.0</td>\n",
       "      <td>107.0</td>\n",
       "      <td>42.0</td>\n",
       "      <td>27.0</td>\n",
       "      <td>992.0</td>\n",
       "    </tr>\n",
       "    <tr>\n",
       "      <th>Dvl2</th>\n",
       "      <td>1194.0</td>\n",
       "      <td>251.0</td>\n",
       "      <td>14.0</td>\n",
       "      <td>53.0</td>\n",
       "      <td>661.0</td>\n",
       "    </tr>\n",
       "  </tbody>\n",
       "</table>\n",
       "</div>"
      ],
      "text/plain": [
       "           cycling  effector  other  progenitor  terminal exhausted\n",
       "condition                                                          \n",
       "Tox2        2300.0     247.0  117.0        75.0              1594.0\n",
       "Arid5b      1234.0     107.0   42.0        27.0               992.0\n",
       "Dvl2        1194.0     251.0   14.0        53.0               661.0"
      ]
     },
     "execution_count": 44,
     "metadata": {},
     "output_type": "execute_result"
    }
   ],
   "source": [
    "cts_unperturbed = cts.loc[cts.index=='Unperturbed', ]\n",
    "cts_perturbed = cts.loc[cts.index!='Unperturbed', ]\n",
    "cts_perturbed.head(3)"
   ]
  },
  {
   "cell_type": "code",
   "execution_count": null,
   "id": "2b7d069b-35f4-48f1-acea-5230a4d5c73d",
   "metadata": {},
   "outputs": [],
   "source": [
    "# Fit dirichlet - multinomial with unperturbed samples\n",
    "k=cts_unperturbed.shape[1]\n",
    "\n",
    "with pm.Model(coords={\"cell_type\": cts_unperturbed.columns.values}) as dirMulti_model:\n",
    "    cts = pm.Data(\"cts\", cts_unperturbed.values, mutable=True)\n",
    "    n = pm.Data(\"n\", cts_unperturbed.sum(axis=1).values, mutable=True)\n",
    "    # Dirichlet prior for p\n",
    "    proportions = pm.Dirichlet(\n",
    "        'proportions',\n",
    "        a=np.array([5.0] * k).astype(\"float32\"),\n",
    "        initval=np.array([0.1] * k),\n",
    "        shape=(5,)\n",
    "    )\n",
    "    # Likelihood (sampling distribution) of observations\n",
    "    counts = pm.Multinomial(\n",
    "        'counts',\n",
    "        n=n,\n",
    "        p=proportions,\n",
    "        observed=cts\n",
    "    )\n",
    "    dirMulti_trace = pm.sample(2000, chains=4, return_inferencedata=True)\n",
    "\n",
    "az.summary(dirMulti_trace, round_to=2)"
   ]
  },
  {
   "cell_type": "code",
   "execution_count": null,
   "id": "b970d8dc-929e-4b6b-89ba-58271384f044",
   "metadata": {},
   "outputs": [],
   "source": [
    "params_plot = az.plot_forest(dirMulti_trace)\n",
    "fig = params_plot.ravel()[0].figure\n",
    "fig.savefig('dirMult_forest_plot.png')\n",
    "\n",
    "trace_plot = az.plot_trace(dirMulti_trace)\n",
    "fig = trace_plot.ravel()[0].figure\n",
    "fig.savefig('dirMult_trace_plot.png')"
   ]
  },
  {
   "cell_type": "code",
   "execution_count": null,
   "id": "1dc0e647-4db6-4818-b242-e39b78996344",
   "metadata": {},
   "outputs": [],
   "source": [
    "# Sample from the posterior predictive distribution for perturbed samples\n",
    "pm.set_data({\"cts\": cts_perturbed.values, \"n\": cts_perturbed.sum(axis=1).values}, model=dirMulti_model)\n",
    "ppc_test = pm.sample_posterior_predictive(dirMulti_trace, model=dirMulti_model)\n",
    "\n",
    "# Probability of the sample being drawn from the fitted distribution\n",
    "observed = ppc_test['observed_data']['counts'].values\n",
    "predicted = ppc_test['posterior_predictive']['counts'].values\n",
    "geq = np.zeros(observed.shape)\n",
    "nsamples = predicted.shape[0] * predicted.shape[1]\n",
    "\n",
    "for i in range(geq.shape[0]):\n",
    "    for j in range(geq.shape[1]):\n",
    "        geq[i,j] = min(np.sum(observed[i,j] >= predicted[:,:,i,j])/nsamples, np.sum(observed[i,j] <= predicted[:,:,i,j])/nsamples)\n",
    "\n",
    "np.sum(geq < 0.05, axis=1)"
   ]
  },
  {
   "cell_type": "markdown",
   "id": "6e929afd-c5dc-43c7-a152-4ee99dbf8b9d",
   "metadata": {},
   "source": [
    "## Dirichlet multinomial\n",
    "\n",
    "Ignoring different number of cells per sample."
   ]
  },
  {
   "cell_type": "code",
   "execution_count": 38,
   "id": "c93df423-7d0e-4da9-afb1-9067f74d3db5",
   "metadata": {},
   "outputs": [
    {
     "data": {
      "text/html": [
       "<div>\n",
       "<style scoped>\n",
       "    .dataframe tbody tr th:only-of-type {\n",
       "        vertical-align: middle;\n",
       "    }\n",
       "\n",
       "    .dataframe tbody tr th {\n",
       "        vertical-align: top;\n",
       "    }\n",
       "\n",
       "    .dataframe thead th {\n",
       "        text-align: right;\n",
       "    }\n",
       "</style>\n",
       "<table border=\"1\" class=\"dataframe\">\n",
       "  <thead>\n",
       "    <tr style=\"text-align: right;\">\n",
       "      <th></th>\n",
       "      <th>cycling</th>\n",
       "      <th>effector</th>\n",
       "      <th>other</th>\n",
       "      <th>progenitor</th>\n",
       "      <th>terminal exhausted</th>\n",
       "    </tr>\n",
       "    <tr>\n",
       "      <th>condition</th>\n",
       "      <th></th>\n",
       "      <th></th>\n",
       "      <th></th>\n",
       "      <th></th>\n",
       "      <th></th>\n",
       "    </tr>\n",
       "  </thead>\n",
       "  <tbody>\n",
       "    <tr>\n",
       "      <th>Tox2</th>\n",
       "      <td>0.530810</td>\n",
       "      <td>0.057004</td>\n",
       "      <td>0.027002</td>\n",
       "      <td>0.017309</td>\n",
       "      <td>0.367874</td>\n",
       "    </tr>\n",
       "    <tr>\n",
       "      <th>Arid5b</th>\n",
       "      <td>0.513739</td>\n",
       "      <td>0.044546</td>\n",
       "      <td>0.017485</td>\n",
       "      <td>0.011241</td>\n",
       "      <td>0.412989</td>\n",
       "    </tr>\n",
       "    <tr>\n",
       "      <th>Dvl2</th>\n",
       "      <td>0.549471</td>\n",
       "      <td>0.115509</td>\n",
       "      <td>0.006443</td>\n",
       "      <td>0.024390</td>\n",
       "      <td>0.304188</td>\n",
       "    </tr>\n",
       "  </tbody>\n",
       "</table>\n",
       "</div>"
      ],
      "text/plain": [
       "            cycling  effector     other  progenitor  terminal exhausted\n",
       "condition                                                              \n",
       "Tox2       0.530810  0.057004  0.027002    0.017309            0.367874\n",
       "Arid5b     0.513739  0.044546  0.017485    0.011241            0.412989\n",
       "Dvl2       0.549471  0.115509  0.006443    0.024390            0.304188"
      ]
     },
     "execution_count": 38,
     "metadata": {},
     "output_type": "execute_result"
    }
   ],
   "source": [
    "cts_unperturbed = (cts_unperturbed.div(cts_unperturbed.sum(axis=1), axis=0)*100).round()\n",
    "cts_perturbed = (cts_perturbed.div(cts_perturbed.sum(axis=1), axis=0)*100).round()\n",
    "cts_perturbed.head(3)"
   ]
  },
  {
   "cell_type": "code",
   "execution_count": null,
   "id": "ea056050-efd5-429f-9bf3-0d8fb67a15b7",
   "metadata": {},
   "outputs": [],
   "source": [
    "# Fit dirichlet - multinomial with unperturbed samples\n",
    "k=cts_unperturbed.shape[1]\n",
    "\n",
    "with pm.Model(coords={\"cell_type\": cts_unperturbed.columns.values}) as dirMulti_model:\n",
    "    cts = pm.Data(\"cts\", cts_unperturbed.values, mutable=True)\n",
    "    n = pm.Data(\"n\", cts_unperturbed.sum(axis=1).values, mutable=True)\n",
    "    # Dirichlet prior for p\n",
    "    proportions = pm.Dirichlet(\n",
    "        'proportions',\n",
    "        a=np.array([5.0] * k).astype(\"float32\"),\n",
    "        initval=np.array([0.1] * k),\n",
    "        shape=(5,)\n",
    "    )\n",
    "    # Likelihood (sampling distribution) of observations\n",
    "    counts = pm.Multinomial(\n",
    "        'counts',\n",
    "        n=n,\n",
    "        p=proportions,\n",
    "        observed=cts\n",
    "    )\n",
    "    dirMulti_trace = pm.sample(2000, chains=4, return_inferencedata=True)\n",
    "\n",
    "az.summary(dirMulti_trace, round_to=2)"
   ]
  },
  {
   "cell_type": "code",
   "execution_count": null,
   "id": "eacb9ce5-2c99-4076-b0e4-83a7c8ad8a5b",
   "metadata": {},
   "outputs": [],
   "source": [
    "params_plot = az.plot_forest(dirMulti_trace)\n",
    "fig = params_plot.ravel()[0].figure\n",
    "fig.savefig('dirMult_normalized_forest_plot.png')\n",
    "\n",
    "trace_plot = az.plot_trace(dirMulti_trace)\n",
    "fig = trace_plot.ravel()[0].figure\n",
    "fig.savefig('dirMult_normalized_trace_plot.png')"
   ]
  },
  {
   "cell_type": "code",
   "execution_count": null,
   "id": "017a1a1d-fb7a-44e4-8d23-8b46cc5621e3",
   "metadata": {},
   "outputs": [],
   "source": [
    "# Sample from the posterior predictive distribution for perturbed samples\n",
    "pm.set_data({\"cts\": cts_perturbed.values, \"n\": cts_perturbed.sum(axis=1).values}, model=dirMulti_model)\n",
    "ppc_test = pm.sample_posterior_predictive(dirMulti_trace, model=dirMulti_model)\n",
    "\n",
    "# Probability of the sample being drawn from the fitted distribution\n",
    "observed = ppc_test['observed_data']['counts'].values\n",
    "predicted = ppc_test['posterior_predictive']['counts'].values\n",
    "geq = np.zeros(observed.shape)\n",
    "nsamples = predicted.shape[0] * predicted.shape[1]\n",
    "\n",
    "for i in range(geq.shape[0]):\n",
    "    for j in range(geq.shape[1]):\n",
    "        geq[i,j] = min(np.sum(observed[i,j] >= predicted[:,:,i,j])/nsamples, np.sum(observed[i,j] <= predicted[:,:,i,j])/nsamples)\n",
    "\n",
    "np.sum(geq < 0.05, axis=1)"
   ]
  }
 ],
 "metadata": {
  "kernelspec": {
   "display_name": "Python 3 (ipykernel)",
   "language": "python",
   "name": "python3"
  },
  "language_info": {
   "codemirror_mode": {
    "name": "ipython",
    "version": 3
   },
   "file_extension": ".py",
   "mimetype": "text/x-python",
   "name": "python",
   "nbconvert_exporter": "python",
   "pygments_lexer": "ipython3",
   "version": "3.10.6"
  }
 },
 "nbformat": 4,
 "nbformat_minor": 5
}
